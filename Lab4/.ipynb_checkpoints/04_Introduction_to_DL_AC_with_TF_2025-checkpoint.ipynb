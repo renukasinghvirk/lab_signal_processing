{
 "cells": [
  {
   "cell_type": "markdown",
   "metadata": {
    "id": "9lNkuzkmetj1"
   },
   "source": [
    "**Students' name**"
   ]
  },
  {
   "cell_type": "markdown",
   "metadata": {
    "id": "MQxmllk6ewHP"
   },
   "source": [
    "This aim of this course is to review the evolution of image processing tools from hand-crafted methods to deep learning algorithms. The semester is split into four labs :\n",
    "\n",
    "* **Lab 1** : Introduction to Image Processing Using Hand-Crafted Features\n",
    "* **Lab 2** : Object detection\n",
    "* **Lab 3** : Object tracking\n",
    "* **Lab 4** : Introduction to Deep Learning for image classification and generative model\n",
    "\n",
    "Let's start with the final chapter of this course!"
   ]
  },
  {
   "cell_type": "markdown",
   "metadata": {
    "id": "OJgMw3TWqWcv"
   },
   "source": [
    "# Chapter 4. Introduction to Deep Learning for image classification.\n",
    "(*100 points*)\n",
    "\n",
    "In the previous laboratories, you learned about basic image handling, as well as the process of generating handcrafted features; this is to say, you generated descriptors of your data that specifically for your machine learning model to perform, for example, face detection, or image classification.  \n",
    "\n",
    "In this last laboratory, you will get some hands-on practice in deep learning. Now your task becomes more of a data engineer, that will set the data and network parts together for a deep learning network to learn what the data has to say.  \n",
    "\n",
    "You will be using Google's collab environment to have easy access to a GPU and will use pre-defined datasets accessible from the Tensorflow API. The main advantages that Collab offers is an already set-up environment with all the popular libraries (Keras, TensorFlow, PyTorch, OpenCV) installed, as well as access to a shared GPU for training and inference of your models.\n",
    "\n",
    "Detailed information about the service can be found on the faq page.\n",
    "\n",
    "https://research.google.com/colaboratory/faq.html\n",
    "\n"
   ]
  },
  {
   "cell_type": "markdown",
   "metadata": {
    "id": "d0Ju2ESgyzvr"
   },
   "source": [
    "## 4.1 Setting up the environment:\n",
    "\n",
    "If you are reading this is, is likely that you already imported the lab's notebook to your google's drive account. The only thing to be sure is that the GPU acceleration is turning on.\n",
    "\n",
    "For that, go to Edit -> Notebook Settings -> Select \"GPU\" in the \"Hardware accelaration\" option.  \n",
    "\n",
    "Run the code below to check that the GPU is correctly working on the environment and display the GPU's specs."
   ]
  },
  {
   "cell_type": "code",
   "execution_count": 1,
   "metadata": {
    "id": "mwLtRvudqj0E"
   },
   "outputs": [
    {
     "name": "stderr",
     "output_type": "stream",
     "text": [
      "2025-05-28 15:07:50.995622: I tensorflow/core/util/port.cc:110] oneDNN custom operations are on. You may see slightly different numerical results due to floating-point round-off errors from different computation orders. To turn them off, set the environment variable `TF_ENABLE_ONEDNN_OPTS=0`.\n",
      "2025-05-28 15:07:52.251635: I tensorflow/tsl/cuda/cudart_stub.cc:28] Could not find cuda drivers on your machine, GPU will not be used.\n",
      "2025-05-28 15:07:56.053949: I tensorflow/tsl/cuda/cudart_stub.cc:28] Could not find cuda drivers on your machine, GPU will not be used.\n",
      "2025-05-28 15:07:56.054844: I tensorflow/core/platform/cpu_feature_guard.cc:182] This TensorFlow binary is optimized to use available CPU instructions in performance-critical operations.\n",
      "To enable the following instructions: AVX2 AVX512F AVX512_VNNI FMA, in other operations, rebuild TensorFlow with the appropriate compiler flags.\n",
      "2025-05-28 15:08:08.986678: W tensorflow/compiler/tf2tensorrt/utils/py_utils.cc:38] TF-TRT Warning: Could not find TensorRT\n",
      "2025-05-28 15:08:32.472953: W tensorflow/core/common_runtime/gpu/gpu_device.cc:1956] Cannot dlopen some GPU libraries. Please make sure the missing libraries mentioned above are installed properly if you would like to use GPU. Follow the guide at https://www.tensorflow.org/install/gpu for how to download and setup the required libraries for your platform.\n",
      "Skipping registering GPU devices...\n"
     ]
    },
    {
     "ename": "SystemError",
     "evalue": "GPU device not found",
     "output_type": "error",
     "traceback": [
      "\u001b[0;31m---------------------------------------------------------------------------\u001b[0m",
      "\u001b[0;31mSystemError\u001b[0m                               Traceback (most recent call last)",
      "Cell \u001b[0;32mIn[1], line 6\u001b[0m\n\u001b[1;32m      4\u001b[0m device_name \u001b[38;5;241m=\u001b[39m tf\u001b[38;5;241m.\u001b[39mtest\u001b[38;5;241m.\u001b[39mgpu_device_name()\n\u001b[1;32m      5\u001b[0m \u001b[38;5;28;01mif\u001b[39;00m device_name \u001b[38;5;241m!=\u001b[39m \u001b[38;5;124m'\u001b[39m\u001b[38;5;124m/device:GPU:0\u001b[39m\u001b[38;5;124m'\u001b[39m:\n\u001b[0;32m----> 6\u001b[0m   \u001b[38;5;28;01mraise\u001b[39;00m \u001b[38;5;167;01mSystemError\u001b[39;00m(\u001b[38;5;124m'\u001b[39m\u001b[38;5;124mGPU device not found\u001b[39m\u001b[38;5;124m'\u001b[39m)\n\u001b[1;32m      7\u001b[0m \u001b[38;5;28mprint\u001b[39m(\u001b[38;5;124m'\u001b[39m\u001b[38;5;124mFound GPU at: \u001b[39m\u001b[38;5;132;01m{}\u001b[39;00m\u001b[38;5;124m'\u001b[39m\u001b[38;5;241m.\u001b[39mformat(device_name))\n\u001b[1;32m      8\u001b[0m get_ipython()\u001b[38;5;241m.\u001b[39msystem(\u001b[38;5;124m'\u001b[39m\u001b[38;5;124mnvidia-smi\u001b[39m\u001b[38;5;124m'\u001b[39m)\n",
      "\u001b[0;31mSystemError\u001b[0m: GPU device not found"
     ]
    }
   ],
   "source": [
    "import tensorflow as tf\n",
    "import numpy as np\n",
    "\n",
    "device_name = tf.test.gpu_device_name()\n",
    "if device_name != '/device:GPU:0':\n",
    "  raise SystemError('GPU device not found')\n",
    "print('Found GPU at: {}'.format(device_name))\n",
    "!nvidia-smi"
   ]
  },
  {
   "cell_type": "markdown",
   "metadata": {
    "id": "ifoGuy4Jq5wG"
   },
   "source": [
    "As —hopefully— you can see above, you have access to a fully operational GPU with the latest CUDA version (>=12). In addition, the code above imported the TensorFlow library, which is already fully instaled in your environment."
   ]
  },
  {
   "cell_type": "markdown",
   "metadata": {
    "id": "KxglLl8tjcLn"
   },
   "source": [
    "\n",
    "**Content of the notebook:**\n",
    "\n",
    "The rest of the notebook tries to cover the fundamental parts for training a DL Network for image processing, from the dataset curation to the training and performance evaluation:\n",
    "\n",
    "* Obtaining and processing data using Tensoflows dataset modules.\n",
    "* Build a basic deep learning image classifier using Tf.keras\n",
    "* Visualize the training and validation performance.\n",
    "* Import and re-train pre-existing networks.\n",
    "\n",
    "\n",
    "\n",
    "\n",
    "## 4.2 Tensorflow datasets\n",
    "\n",
    "In the previous labs, you had to download big chunks of data, struggle with local paths, missing data, or inconsistencies in the image formats. In this lab, you will use dataset from tensorflow directly.\n",
    "\n",
    "__TF Datasets__ are distributed in all kinds of formats and in all kinds of places, and they’re stored in a format that’s ready to feed into a machine learning pipeline. Below, we import the tensorflow_datasets.\n",
    "\n",
    "\n",
    "\n"
   ]
  },
  {
   "cell_type": "code",
   "execution_count": null,
   "metadata": {
    "id": "0ItGtFySp5Az"
   },
   "outputs": [],
   "source": [
    "import tensorflow_datasets as tfds"
   ]
  },
  {
   "cell_type": "markdown",
   "metadata": {
    "id": "0D5IKsuNIFbQ"
   },
   "source": [
    "If you would like to reproduce what you learn in this notebook locally on your computer, you will need to install both packages:\n",
    "\n",
    "https://www.tensorflow.org/install\n",
    "\n",
    "https://www.tensorflow.org/datasets/catalog/overview\n",
    "\n",
    "In this lab we will be using the latest version of TensorFlow (2.12), is important to know that due to the exponential growth of TensorFlow's modules and main kernel, code written (even in the official TensorFlow documentation) for previous versions (especially before tf2.0) may not be fully compatible with this, or any future release of TensorFlow. So, as good development practice, try always recording the TensorFlow version you used to write your code so *future-you* is able to reproduce your results."
   ]
  },
  {
   "cell_type": "code",
   "execution_count": 6,
   "metadata": {
    "id": "kn9XV-SDIF0Z"
   },
   "outputs": [
    {
     "name": "stdout",
     "output_type": "stream",
     "text": [
      "2.12.0\n"
     ]
    }
   ],
   "source": [
    "print(tf.__version__)"
   ]
  },
  {
   "cell_type": "markdown",
   "metadata": {
    "id": "RKdGJgMQrayV"
   },
   "source": [
    "**TF Datasets** are also in constant development by the community, so first go here and check the updated list of available datasets and their details (features, statistics, etc.): https://www.tensorflow.org/datasets/catalog/overview. Or list them from the TensorFlow environment:"
   ]
  },
  {
   "cell_type": "code",
   "execution_count": 7,
   "metadata": {
    "id": "3OMgGvRvsPIx"
   },
   "outputs": [
    {
     "name": "stderr",
     "output_type": "stream",
     "text": [
      "2025-05-28 13:49:25.274481: W tensorflow/tsl/platform/cloud/google_auth_provider.cc:184] All attempts to get a Google authentication bearer token failed, returning an empty token. Retrieving token from files failed with \"NOT_FOUND: Could not locate the credentials file.\". Retrieving token from GCE failed with \"FAILED_PRECONDITION: Error executing an HTTP request: libcurl code 6 meaning 'Couldn't resolve host name', error details: Could not resolve host: metadata.google.internal\".\n"
     ]
    },
    {
     "data": {
      "text/plain": [
       "['abstract_reasoning',\n",
       " 'accentdb',\n",
       " 'aeslc',\n",
       " 'aflw2k3d',\n",
       " 'ag_news_subset',\n",
       " 'ai2_arc',\n",
       " 'ai2_arc_with_ir',\n",
       " 'ai2dcaption',\n",
       " 'aloha_mobile',\n",
       " 'amazon_us_reviews',\n",
       " 'anli',\n",
       " 'answer_equivalence',\n",
       " 'arc',\n",
       " 'asimov_dilemmas_auto_val',\n",
       " 'asimov_dilemmas_scifi_train',\n",
       " 'asimov_dilemmas_scifi_val',\n",
       " 'asimov_injury_val',\n",
       " 'asimov_multimodal_auto_val',\n",
       " 'asimov_multimodal_manual_val',\n",
       " 'asqa',\n",
       " 'asset',\n",
       " 'assin2',\n",
       " 'asu_table_top_converted_externally_to_rlds',\n",
       " 'austin_buds_dataset_converted_externally_to_rlds',\n",
       " 'austin_sailor_dataset_converted_externally_to_rlds',\n",
       " 'austin_sirius_dataset_converted_externally_to_rlds',\n",
       " 'bair_robot_pushing_small',\n",
       " 'bc_z',\n",
       " 'bccd',\n",
       " 'beans',\n",
       " 'bee_dataset',\n",
       " 'beir',\n",
       " 'berkeley_autolab_ur5',\n",
       " 'berkeley_cable_routing',\n",
       " 'berkeley_fanuc_manipulation',\n",
       " 'berkeley_gnm_cory_hall',\n",
       " 'berkeley_gnm_recon',\n",
       " 'berkeley_gnm_sac_son',\n",
       " 'berkeley_mvp_converted_externally_to_rlds',\n",
       " 'berkeley_rpt_converted_externally_to_rlds',\n",
       " 'big_patent',\n",
       " 'bigearthnet',\n",
       " 'billsum',\n",
       " 'binarized_mnist',\n",
       " 'binary_alpha_digits',\n",
       " 'ble_wind_field',\n",
       " 'blimp',\n",
       " 'booksum',\n",
       " 'bool_q',\n",
       " 'bot_adversarial_dialogue',\n",
       " 'bridge',\n",
       " 'bridge_data_msr',\n",
       " 'bucc',\n",
       " 'c4',\n",
       " 'c4_wsrs',\n",
       " 'caltech101',\n",
       " 'caltech_birds2010',\n",
       " 'caltech_birds2011',\n",
       " 'cardiotox',\n",
       " 'cars196',\n",
       " 'cassava',\n",
       " 'cats_vs_dogs',\n",
       " 'celeb_a',\n",
       " 'celeb_a_hq',\n",
       " 'cfq',\n",
       " 'cherry_blossoms',\n",
       " 'chexpert',\n",
       " 'cifar10',\n",
       " 'cifar100',\n",
       " 'cifar100_n',\n",
       " 'cifar10_1',\n",
       " 'cifar10_corrupted',\n",
       " 'cifar10_h',\n",
       " 'cifar10_n',\n",
       " 'citrus_leaves',\n",
       " 'cityscapes',\n",
       " 'civil_comments',\n",
       " 'clevr',\n",
       " 'clic',\n",
       " 'clinc_oos',\n",
       " 'cmaterdb',\n",
       " 'cmu_franka_exploration_dataset_converted_externally_to_rlds',\n",
       " 'cmu_play_fusion',\n",
       " 'cmu_stretch',\n",
       " 'cnn_dailymail',\n",
       " 'coco',\n",
       " 'coco_captions',\n",
       " 'coil100',\n",
       " 'colorectal_histology',\n",
       " 'colorectal_histology_large',\n",
       " 'columbia_cairlab_pusht_real',\n",
       " 'common_voice',\n",
       " 'conll2002',\n",
       " 'conll2003',\n",
       " 'conq_hose_manipulation',\n",
       " 'controlled_noisy_web_labels',\n",
       " 'coqa',\n",
       " 'corr2cause',\n",
       " 'cos_e',\n",
       " 'cosmos_qa',\n",
       " 'covid19',\n",
       " 'covid19sum',\n",
       " 'crema_d',\n",
       " 'criteo',\n",
       " 'cs_restaurants',\n",
       " 'curated_breast_imaging_ddsm',\n",
       " 'cycle_gan',\n",
       " 'd4rl_adroit_door',\n",
       " 'd4rl_adroit_hammer',\n",
       " 'd4rl_adroit_pen',\n",
       " 'd4rl_adroit_relocate',\n",
       " 'd4rl_antmaze',\n",
       " 'd4rl_mujoco_ant',\n",
       " 'd4rl_mujoco_halfcheetah',\n",
       " 'd4rl_mujoco_hopper',\n",
       " 'd4rl_mujoco_walker2d',\n",
       " 'dart',\n",
       " 'databricks_dolly',\n",
       " 'davis',\n",
       " 'deep1b',\n",
       " 'deep_weeds',\n",
       " 'definite_pronoun_resolution',\n",
       " 'dementiabank',\n",
       " 'diabetic_retinopathy_detection',\n",
       " 'diamonds',\n",
       " 'dices',\n",
       " 'div2k',\n",
       " 'dlr_edan_shared_control_converted_externally_to_rlds',\n",
       " 'dlr_sara_grid_clamp_converted_externally_to_rlds',\n",
       " 'dlr_sara_pour_converted_externally_to_rlds',\n",
       " 'dmlab',\n",
       " 'dobbe',\n",
       " 'doc_nli',\n",
       " 'dolma',\n",
       " 'dolphin_number_word',\n",
       " 'domainnet',\n",
       " 'downsampled_imagenet',\n",
       " 'drop',\n",
       " 'dsprites',\n",
       " 'dtd',\n",
       " 'duke_ultrasound',\n",
       " 'e2e_cleaned',\n",
       " 'efron_morris75',\n",
       " 'emnist',\n",
       " 'eraser_multi_rc',\n",
       " 'esnli',\n",
       " 'eth_agent_affordances',\n",
       " 'eurosat',\n",
       " 'fashion_mnist',\n",
       " 'flic',\n",
       " 'flores',\n",
       " 'fmb',\n",
       " 'food101',\n",
       " 'forest_fires',\n",
       " 'fractal20220817_data',\n",
       " 'fuss',\n",
       " 'gap',\n",
       " 'geirhos_conflict_stimuli',\n",
       " 'gem',\n",
       " 'genomics_ood',\n",
       " 'german_credit_numeric',\n",
       " 'gigaword',\n",
       " 'glove100_angular',\n",
       " 'glue',\n",
       " 'goemotions',\n",
       " 'gov_report',\n",
       " 'gpt3',\n",
       " 'gref',\n",
       " 'groove',\n",
       " 'grounded_scan',\n",
       " 'gsm8k',\n",
       " 'gtzan',\n",
       " 'gtzan_music_speech',\n",
       " 'hellaswag',\n",
       " 'higgs',\n",
       " 'hillstrom',\n",
       " 'horses_or_humans',\n",
       " 'howell',\n",
       " 'i_naturalist2017',\n",
       " 'i_naturalist2018',\n",
       " 'i_naturalist2021',\n",
       " 'iamlab_cmu_pickup_insert_converted_externally_to_rlds',\n",
       " 'imagenet2012',\n",
       " 'imagenet2012_corrupted',\n",
       " 'imagenet2012_fewshot',\n",
       " 'imagenet2012_multilabel',\n",
       " 'imagenet2012_real',\n",
       " 'imagenet2012_subset',\n",
       " 'imagenet_a',\n",
       " 'imagenet_lt',\n",
       " 'imagenet_pi',\n",
       " 'imagenet_r',\n",
       " 'imagenet_resized',\n",
       " 'imagenet_sketch',\n",
       " 'imagenet_v2',\n",
       " 'imagenette',\n",
       " 'imagewang',\n",
       " 'imdb_reviews',\n",
       " 'imperialcollege_sawyer_wrist_cam',\n",
       " 'io_ai_tech',\n",
       " 'irc_disentanglement',\n",
       " 'iris',\n",
       " 'istella',\n",
       " 'jaco_play',\n",
       " 'kaist_nonprehensile_converted_externally_to_rlds',\n",
       " 'kddcup99',\n",
       " 'kitti',\n",
       " 'kmnist',\n",
       " 'kuka',\n",
       " 'laion400m',\n",
       " 'lambada',\n",
       " 'lfw',\n",
       " 'librispeech',\n",
       " 'librispeech_lm',\n",
       " 'libritts',\n",
       " 'ljspeech',\n",
       " 'lm1b',\n",
       " 'locomotion',\n",
       " 'lost_and_found',\n",
       " 'lsun',\n",
       " 'lvis',\n",
       " 'malaria',\n",
       " 'maniskill_dataset_converted_externally_to_rlds',\n",
       " 'math_dataset',\n",
       " 'math_qa',\n",
       " 'mctaco',\n",
       " 'media_sum',\n",
       " 'mimic_play',\n",
       " 'mlqa',\n",
       " 'mnist',\n",
       " 'mnist_corrupted',\n",
       " 'movie_lens',\n",
       " 'movie_rationales',\n",
       " 'movielens',\n",
       " 'moving_mnist',\n",
       " 'mrqa',\n",
       " 'mslr_web',\n",
       " 'mt_opt',\n",
       " 'mtnt',\n",
       " 'multi_news',\n",
       " 'multi_nli',\n",
       " 'multi_nli_mismatch',\n",
       " 'natural_instructions',\n",
       " 'natural_questions',\n",
       " 'natural_questions_open',\n",
       " 'newsroom',\n",
       " 'nsynth',\n",
       " 'nyu_depth_v2',\n",
       " 'nyu_door_opening_surprising_effectiveness',\n",
       " 'nyu_franka_play_dataset_converted_externally_to_rlds',\n",
       " 'nyu_rot_dataset_converted_externally_to_rlds',\n",
       " 'ogbg_molpcba',\n",
       " 'omniglot',\n",
       " 'open_images_challenge2019_detection',\n",
       " 'open_images_v4',\n",
       " 'openbookqa',\n",
       " 'opinion_abstracts',\n",
       " 'opinosis',\n",
       " 'opus',\n",
       " 'oxford_flowers102',\n",
       " 'oxford_iiit_pet',\n",
       " 'para_crawl',\n",
       " 'pass',\n",
       " 'patch_camelyon',\n",
       " 'paws_wiki',\n",
       " 'paws_x_wiki',\n",
       " 'penguins',\n",
       " 'pet_finder',\n",
       " 'pg19',\n",
       " 'piqa',\n",
       " 'places365_small',\n",
       " 'placesfull',\n",
       " 'plant_leaves',\n",
       " 'plant_village',\n",
       " 'plantae_k',\n",
       " 'plex_robosuite',\n",
       " 'pneumonia_mnist',\n",
       " 'protein_net',\n",
       " 'q_re_cc',\n",
       " 'qa4mre',\n",
       " 'qasc',\n",
       " 'qm9',\n",
       " 'quac',\n",
       " 'quality',\n",
       " 'quickdraw_bitmap',\n",
       " 'race',\n",
       " 'radon',\n",
       " 'real_toxicity_prompts',\n",
       " 'reddit',\n",
       " 'reddit_disentanglement',\n",
       " 'reddit_tifu',\n",
       " 'ref_coco',\n",
       " 'resisc45',\n",
       " 'rlu_atari',\n",
       " 'rlu_atari_checkpoints',\n",
       " 'rlu_atari_checkpoints_ordered',\n",
       " 'rlu_control_suite',\n",
       " 'rlu_dmlab_explore_object_rewards_few',\n",
       " 'rlu_dmlab_explore_object_rewards_many',\n",
       " 'rlu_dmlab_rooms_select_nonmatching_object',\n",
       " 'rlu_dmlab_rooms_watermaze',\n",
       " 'rlu_dmlab_seekavoid_arena01',\n",
       " 'rlu_locomotion',\n",
       " 'rlu_rwrl',\n",
       " 'robo_set',\n",
       " 'robomimic_mg',\n",
       " 'robomimic_mh',\n",
       " 'robomimic_ph',\n",
       " 'robonet',\n",
       " 'robosuite_panda_pick_place_can',\n",
       " 'roboturk',\n",
       " 'rock_paper_scissors',\n",
       " 'rock_you',\n",
       " 's3o4d',\n",
       " 'salient_span_wikipedia',\n",
       " 'samsum',\n",
       " 'savee',\n",
       " 'scan',\n",
       " 'scene_parse150',\n",
       " 'schema_guided_dialogue',\n",
       " 'sci_tail',\n",
       " 'scicite',\n",
       " 'scientific_papers',\n",
       " 'scrolls',\n",
       " 'segment_anything',\n",
       " 'sentiment140',\n",
       " 'shapes3d',\n",
       " 'sift1m',\n",
       " 'simpte',\n",
       " 'siscore',\n",
       " 'smallnorb',\n",
       " 'smart_buildings',\n",
       " 'smartwatch_gestures',\n",
       " 'snli',\n",
       " 'so2sat',\n",
       " 'speech_commands',\n",
       " 'spoc_robot',\n",
       " 'spoken_digit',\n",
       " 'squad',\n",
       " 'squad_question_generation',\n",
       " 'stanford_dogs',\n",
       " 'stanford_hydra_dataset_converted_externally_to_rlds',\n",
       " 'stanford_kuka_multimodal_dataset_converted_externally_to_rlds',\n",
       " 'stanford_mask_vit_converted_externally_to_rlds',\n",
       " 'stanford_online_products',\n",
       " 'stanford_robocook_converted_externally_to_rlds',\n",
       " 'star_cfq',\n",
       " 'starcraft_video',\n",
       " 'stl10',\n",
       " 'story_cloze',\n",
       " 'summscreen',\n",
       " 'sun397',\n",
       " 'super_glue',\n",
       " 'svhn_cropped',\n",
       " 'symmetric_solids',\n",
       " 'taco_play',\n",
       " 'tao',\n",
       " 'tatoeba',\n",
       " 'ted_hrlr_translate',\n",
       " 'ted_multi_translate',\n",
       " 'tedlium',\n",
       " 'tf_flowers',\n",
       " 'the300w_lp',\n",
       " 'tidybot',\n",
       " 'tiny_shakespeare',\n",
       " 'titanic',\n",
       " 'tokyo_u_lsmo_converted_externally_to_rlds',\n",
       " 'toto',\n",
       " 'trec',\n",
       " 'trivia_qa',\n",
       " 'tydi_qa',\n",
       " 'uc_merced',\n",
       " 'ucf101',\n",
       " 'ucsd_kitchen_dataset_converted_externally_to_rlds',\n",
       " 'ucsd_pick_and_place_dataset_converted_externally_to_rlds',\n",
       " 'uiuc_d3field',\n",
       " 'unified_qa',\n",
       " 'universal_dependencies',\n",
       " 'unnatural_instructions',\n",
       " 'usc_cloth_sim_converted_externally_to_rlds',\n",
       " 'user_libri_audio',\n",
       " 'user_libri_text',\n",
       " 'utaustin_mutex',\n",
       " 'utokyo_pr2_opening_fridge_converted_externally_to_rlds',\n",
       " 'utokyo_pr2_tabletop_manipulation_converted_externally_to_rlds',\n",
       " 'utokyo_saytap_converted_externally_to_rlds',\n",
       " 'utokyo_xarm_bimanual_converted_externally_to_rlds',\n",
       " 'utokyo_xarm_pick_and_place_converted_externally_to_rlds',\n",
       " 'vctk',\n",
       " 'vima_converted_externally_to_rlds',\n",
       " 'viola',\n",
       " 'visual_domain_decathlon',\n",
       " 'voc',\n",
       " 'voxceleb',\n",
       " 'voxforge',\n",
       " 'wake_vision',\n",
       " 'waymo_open_dataset',\n",
       " 'web_graph',\n",
       " 'web_nlg',\n",
       " 'web_questions',\n",
       " 'webvid',\n",
       " 'wider_face',\n",
       " 'wiki40b',\n",
       " 'wiki_auto',\n",
       " 'wiki_bio',\n",
       " 'wiki_dialog',\n",
       " 'wiki_table_questions',\n",
       " 'wiki_table_text',\n",
       " 'wikiann',\n",
       " 'wikihow',\n",
       " 'wikipedia',\n",
       " 'wikipedia_toxicity_subtypes',\n",
       " 'wine_quality',\n",
       " 'winogrande',\n",
       " 'wit',\n",
       " 'wit_kaggle',\n",
       " 'wmt13_translate',\n",
       " 'wmt14_translate',\n",
       " 'wmt15_translate',\n",
       " 'wmt16_translate',\n",
       " 'wmt17_translate',\n",
       " 'wmt18_translate',\n",
       " 'wmt19_translate',\n",
       " 'wmt_t2t_translate',\n",
       " 'wmt_translate',\n",
       " 'wordnet',\n",
       " 'wsc273',\n",
       " 'xnli',\n",
       " 'xquad',\n",
       " 'xsum',\n",
       " 'xtreme_pawsx',\n",
       " 'xtreme_pos',\n",
       " 'xtreme_s',\n",
       " 'xtreme_xnli',\n",
       " 'yahoo_ltrc',\n",
       " 'yelp_polarity_reviews',\n",
       " 'yes_no',\n",
       " 'youtube_vis']"
      ]
     },
     "execution_count": 7,
     "metadata": {},
     "output_type": "execute_result"
    }
   ],
   "source": [
    "# List the available datasets\n",
    "tfds.list_builders()"
   ]
  },
  {
   "cell_type": "markdown",
   "metadata": {
    "id": "cuuP-WDZsZok"
   },
   "source": [
    "As you can see, there are many datasets and not only for image processing.\n",
    "\n",
    "To quickly visualize examples of a given dataset, you can load a given dataset and use the API's function *show_examples*"
   ]
  },
  {
   "cell_type": "code",
   "execution_count": null,
   "metadata": {
    "id": "Jm7JtbBZscLw"
   },
   "outputs": [],
   "source": [
    "# Yes, someone in the world needed to differentiate betwen horses and humans, and made a full dataset for this purpose.\n",
    "dataset, dataset_info = tfds.load('horses_or_humans', split='train', with_info=True)\n",
    "# Check that someone was not exactly consistent with the parameter order between these two functions\n",
    "fig = tfds.show_examples(dataset, dataset_info)"
   ]
  },
  {
   "cell_type": "markdown",
   "metadata": {
    "id": "y1IjxQShp9WH"
   },
   "source": [
    "\n",
    "After downloading a dataset, TensorFlow, or rather the dataset curator, defined a set of useful and predefined transformations (tf.data transformations) such as:\n",
    "\n",
    "*   .map() — to apply a function to each element.\n",
    "*   .shuffle() — to shuffle the dataset order.\n",
    "*   .batch() — to create batches of data, let’s say you have 1000 images in total\n",
    "*   .repeat() — to repeat elements in the dataset.\n",
    "*   .prefetch() — to fetch next batch elements to be processed while the previous batch is being processed.\n",
    "\n",
    "We will use this function ahead for data augmentation and basic training.\n"
   ]
  },
  {
   "cell_type": "markdown",
   "metadata": {
    "id": "c3k2BdRguEqr"
   },
   "source": [
    "## 4.3 Pre-processing the dataset\n",
    "\n",
    "When training a neural network or a machine learning model, you must always keep in mind that the quality of the training data determines the quality of your model. The data you will encounter in practice will be not clean in most cases, even coming from official repositories. In a nutshell, you have to check for non-uniform data formats (jpg, vs png, tiff, vs, RGB, grey-scale), missing values (or NaNs), outliers, etc. For this reason, the data must be preprocessed in various ways.\n",
    "\n",
    "For this lab, since we will be using an already curated dataset, we can skip identifying odd samples, and just directly transform our data to the desired input format and split them in our classic train, validation, and test datasets.\n",
    "\n",
    "However, the images in the downloaded dataset may have different dimensions (size, or even dynamic range). We will then define a function able to:\n",
    "\n",
    "1.   Resize all the images to a given height and width.\n",
    "2.   Normalize the dynamic range to [0,1]\n",
    "3.   Cast our image to the same precision (float32)  \n",
    "\n",
    "We do this because later, in order to train a convolutional neural network, we have to specify the input dimensions (and the shape of our final dense layer depends on the input dimensions of a CNN) and unify the data scaling for min-max normalization."
   ]
  },
  {
   "cell_type": "code",
   "execution_count": null,
   "metadata": {
    "id": "oKgiZE-ttxn_"
   },
   "outputs": [],
   "source": [
    "# Load and split the dataset in 80%, 10%, and 10% propportions\n",
    "(raw_train, raw_validation, raw_test), metadata = tfds.load(\n",
    "    'cats_vs_dogs', split=['train[:80%]', 'train[80%:90%]', 'train[90%:]'],\n",
    "    with_info=True, as_supervised=True)"
   ]
  },
  {
   "cell_type": "markdown",
   "metadata": {
    "id": "k1oVhlLIR7XH"
   },
   "source": [
    "We downloaded a new dataset, using `tfds.load()` function:  https://www.tensorflow.org/datasets/api_docs/python/tfds/load.\n",
    "\n",
    "Please be sure to check the TensorFlow documentation for every function that may look obscure to you.\n",
    "\n",
    "As you read already, `tfds.load()` provides a high-level interface to split our data in a train, a validation, and a test dataset. In addition, by setting the flag *as_supervised=True*,  we download all the metadata needed to perform supervised learning, which in our case corresponds to the labelled images and the data format.\n",
    "\n",
    "For a thorough description:"
   ]
  },
  {
   "cell_type": "code",
   "execution_count": null,
   "metadata": {
    "id": "jOsLyosc9Gdc"
   },
   "outputs": [],
   "source": [
    "print(metadata)"
   ]
  },
  {
   "cell_type": "markdown",
   "metadata": {
    "id": "bjTBNWD27wQE"
   },
   "source": [
    "**4.3.1 Preprocessing using .map:**\n",
    "\n",
    "We now can use the `.map` function to apply a transformation to all the elements of the dataset: https://www.tensorflow.org/api_docs/python/tf/data/Dataset ."
   ]
  },
  {
   "cell_type": "code",
   "execution_count": null,
   "metadata": {
    "id": "sGIL0cEBWaQP"
   },
   "outputs": [],
   "source": [
    "def customFormatingFunction(dataset_image, dataset_label):\n",
    "    # Here we are HARD CODING the input size inside a local function, this is a bad practice.\n",
    "    # But we did anyway. So, if you actually reading this, be sure not no make the same mistake.\n",
    "    FIXED_IMG_SIZE = 128\n",
    "    # cast to tf.float32 precision\n",
    "    dataset_image = tf.cast(dataset_image, tf.float32)\n",
    "    # Normalize the pixel values\n",
    "    dataset_image = dataset_image / 255.0\n",
    "    # Resize the image\n",
    "    dataset_image = tf.image.resize(dataset_image, (FIXED_IMG_SIZE, FIXED_IMG_SIZE))\n",
    "    return dataset_image, dataset_label\n"
   ]
  },
  {
   "cell_type": "markdown",
   "metadata": {
    "id": "aDh7XEI1WZtd"
   },
   "source": [
    "The next cell apply our transformation to the datasets. Check the fact that since we split the dataset we need to transform the three datasets!"
   ]
  },
  {
   "cell_type": "code",
   "execution_count": null,
   "metadata": {
    "id": "RoGQgf8OuCNP"
   },
   "outputs": [],
   "source": [
    "norm_train      = raw_train.map(customFormatingFunction)\n",
    "norm_validation = raw_validation.map(customFormatingFunction)\n",
    "norm_test       = raw_test.map(customFormatingFunction)"
   ]
  },
  {
   "cell_type": "markdown",
   "metadata": {
    "id": "EQsw3x1X8sqd"
   },
   "source": [
    "**4.3.2 Data augmentation:**\n",
    "\n",
    "Data Augmentation is a technique used to expand or enlarge the scope of your dataset.  We apply different transformations to the existing data to expand our dataset so that it will help to train our model better (because the dataset is larger). If done right, it can really increase the performance of your model, or ensure that no overfitting occurs and your model generalizes well. For example, if we want to train a model to learn to differentiate between cats and dogs, learning the colour of the fur (perhaps because our dataset contains lots of black cats, a few black dogs) is a bad idea. We would want our model to learn the shape and relative size of the animal features, presence or absence of pointy ears, etc. So, if we want to prevent the model to use colour as its primary distinguishing parameter, we can use black and white photos or change the brightness parameters; in addition, to avoid orientation bias we can randomly rotate images in our dataset and so on.\n",
    "\n",
    "At this point, I would recommend you to go on with the lab and then come back to this point and read Tensorsflow's example in data augmentation (It will be really useful for the lab's exercise).\n",
    "\n",
    "https://www.tensorflow.org/tutorials/images/data_augmentation\n",
    "\n",
    "and since you are already there, follow the link to the small tutorial in overfitting and underfitting:\n",
    "\n",
    "https://www.tensorflow.org/tutorials/keras/overfit_and_underfit"
   ]
  },
  {
   "cell_type": "code",
   "execution_count": null,
   "metadata": {
    "id": "y3Wxg7U26_Ks"
   },
   "outputs": [],
   "source": [
    "# Example of a custom function to perform data augmentation.\n",
    "def augment_data(image, label):\n",
    "  \"\"\"Returns a processed image and label pair\n",
    "\n",
    "  takes a single image and the original label.\n",
    "  \"\"\"\n",
    "  # Flip the image.\n",
    "  image = tf.image.random_flip_left_right(image)\n",
    "  # Modify the contrast a little bit\n",
    "  image = tf.image.random_contrast(image, lower=0.0, upper=1.0)\n",
    "  # Add more augmentation of your choice\n",
    "  return image, label\n",
    "\n",
    "train      = norm_train.map(augment_data)\n",
    "validation = norm_validation.map(augment_data)\n",
    "test       = norm_test.map(augment_data)"
   ]
  },
  {
   "cell_type": "markdown",
   "metadata": {
    "id": "tAxKPJX4xuj0"
   },
   "source": [
    "\n",
    "**4.3.3 Data randomization and batching:**\n",
    "\n",
    "Finally, since we didn't construct the dataset ourselves, to ensure that there's not an ordering bias in our data, for example, let's say that the person who gathered the data saved all the dog pictures of certain dog race first then the second and so on, we need to randomize our data. In addition, we will take small samples called batches, that will help us to train our network down the road."
   ]
  },
  {
   "cell_type": "code",
   "execution_count": null,
   "metadata": {
    "id": "qpdKKxVq8MRq"
   },
   "outputs": [],
   "source": [
    "# Passed to .shuffle function, it will randomize batches of size shuffle_buffer_size one at the time (for better execution performance)\n",
    "shuffle_buffer_size = 1024\n",
    "\n",
    "#batch size of our samples. The new dataset will be stores in \"units\" or batches of this size.\n",
    "batch_size = 32\n",
    "\n",
    "# we care that the train data is randomized, THEN batched in that order.\n",
    "train = train.shuffle(shuffle_buffer_size).batch(batch_size)\n",
    "\n",
    "# we don't need randomization in the validation.\n",
    "validation = validation.batch(batch_size)\n",
    "test = test.batch(batch_size)\n",
    "\n",
    "# Prefetching overlaps the preprocessing and model execution of a training step.\n",
    "# While the model is executing training step s, the input pipeline is reading the data for step s+1\n",
    "# (Is just for efficiency to keep your precessors working all the time)\n",
    "train = train.prefetch(tf.data.experimental.AUTOTUNE)\n",
    "\n",
    "print(train)\n",
    "print(validation)\n",
    "print(test)\n"
   ]
  },
  {
   "cell_type": "markdown",
   "metadata": {
    "id": "BIk0troz3OYV"
   },
   "source": [
    "\n",
    "Be sure that nothing is obscure in this part, we are just formating our data using the high-level function available from TensorFlow.\n",
    "Again, all the functions used here were taken from the documentation:\n",
    "\n",
    "https://www.tensorflow.org/api_docs/python/tf/data/Dataset\n",
    "\n",
    "https://www.tensorflow.org/guide/data_performance#prefetching\n",
    "\n",
    "<br>\n",
    "\n",
    "So how does our newly formatted data look like? Let's look at one sample:"
   ]
  },
  {
   "cell_type": "code",
   "execution_count": null,
   "metadata": {
    "id": "PEbH-sxY9CGc"
   },
   "outputs": [],
   "source": [
    "import matplotlib.pyplot as plt\n",
    "#The jupyter back-end (%matplotlib notebook) not always works fine in collab\n",
    "%matplotlib inline\n",
    "\n",
    "# Get the function which converts label indices to string\n",
    "# This is a glorified dictionart, that translate intergr values to \"dog\" or \"cat\"\n",
    "get_label_name = metadata.features['label'].int2str\n",
    "\n",
    "#Plot\n",
    "plt.figure(figsize=(16,16))\n",
    "\n",
    "for batch in train.take(1):\n",
    "    for i in range(32):\n",
    "        image, label = batch[0][i], batch[1][i]\n",
    "        plt.subplot(4,8,i+1)\n",
    "        plt.imshow(image.numpy())\n",
    "        # label of our image\n",
    "        plt.title(get_label_name(label.numpy()))\n",
    "        plt.grid(False)\n",
    "    break\n",
    "\n",
    "# Just to check the dynamic range (should fo from 0 to 1)\n",
    "# and the size and number of channels of our images (128,128,3)\n",
    "print(image.shape)\n",
    "print(np.min(image))\n",
    "print(np.max(image))"
   ]
  },
  {
   "cell_type": "markdown",
   "metadata": {
    "id": "5oMUnLKI9VMf"
   },
   "source": [
    "**Summary**  \n",
    "\n",
    "At this point, we have the data ready to be deployed into a machine learning framework. Just as we did in previous laboratories but this time using only TensorFlow's API. In the next section, we will now use tf.keras, to construct a convolutional neural network and perform end to end classification."
   ]
  },
  {
   "cell_type": "markdown",
   "metadata": {
    "id": "blP9yYAN-9Wl"
   },
   "source": [
    " ## 4.4 Building an image classifier model using convolutional neural networks and tf.keras\n",
    "\n",
    "In the following section, we will have a very **hands-on** approach on how to build a convolutional neural network using tf.keras API. This section is not meant to provide a rigorous introduction to deep learning but only to highlight and give practical examples of the core components/concepts that you will need **to search** to go deeper into this topic— It is of course impossible to fit a full course on DL in a notebook. At each step, we will try to highlight external resources to read more in detail about the concepts used in the following tutorial.\n",
    "\n",
    "For instance:\n",
    "\n",
    "https://cs231n.github.io/convolutional-networks/\n",
    "\n",
    "\n",
    "**Why tf.keras?** Keras is an extremely popular high-level API for building and training deep learning models. It’s used for fast prototyping, state-of-the-art research and production. Before the alpha release of TensorFlow 2.0 Keras worked as a stand-alone library for NNs design and prototyping. Nowadays, Keras is integrated tightly with the rest of TensorFlow, so you can access TensorFlow’s features whenever you want. A set of standard packaged models (for example, linear or logistic regression, gradient boosted trees, random forests) are also available to use directly (implemented using the tf.estimator API). If you’re not looking to train a model from scratch, you can also use **transfer learning** to train a Keras or an *Estimator model* using modules from the TensorFlow Hub. https://www.tensorflow.org/hub."
   ]
  },
  {
   "cell_type": "code",
   "execution_count": null,
   "metadata": {
    "id": "KT9mAvRu9iGh"
   },
   "outputs": [],
   "source": [
    "from tensorflow import keras"
   ]
  },
  {
   "cell_type": "markdown",
   "metadata": {
    "id": "trs5GIhei-ZK"
   },
   "source": [
    "**Why Convolutional Neural Networks?**\n",
    "The main structural feature of RegularNets (fully connected networks like MLP's) is that all the neurons are connected to each other. When it comes to classifying images — let's say with size 64x64x3 — fully connected layers need 12288 weights (free parameters to learn) only in the first hidden layer. The number of weights will be even bigger for images with size 225x225x3 = 151875 (duh). Networks having a large number of parameter face several problems, e.g., slower training times, training instability, much bigger chances of overfitting, etc.\n",
    "\n",
    "The main functional difference of convolution neural network is that the main image matrix (representation of our first connected layer) can be reduced to a matrix of much lower dimension in the first layer itself, through an operation called Convolution. For e.g. an image of 64x64x3 can be reduced to 1x1x10. Afterwards, followed by a fully connected layer that could be added to this highly reduced convoluted space.\n",
    "\n",
    "Below, we do a brief recap of the important layers that you can define in a CNN.\n",
    "\n",
    "**Convolution**\n",
    "\n",
    "Remember the Sobel operator for edge detection? In a previous lab, you already worked with the concept of convolution for edge detection. In that problem, the Sobel operator defines a convolution window (or kernel) which computes the spatial derivative in the x and y -axis. In a convolutional neural network, however, instead of predefining this convolutional kernels, they are learnt from your data. This means that in one of your layers the network can automatically learn to generate — similar— Sobel operators if needed, or any other convolution that helps to solve your classification or regression problem.\n",
    "\n",
    "Simplified, a convolution layer is a matrix of dimension smaller than the input matrix. It performs a convolution operation with a small part of the input matrix having the same dimension. The sum of the products of the corresponding elements is the output of this layer.\n",
    "\n",
    "<img src=\"https://cdn.analyticsvidhya.com/wp-content/uploads/2017/06/28094927/padding.gif\">\n",
    "\n",
    "<sup> Image taken from  https://www.analyticsvidhya.com/blog/2017/06/architecture-of-convolutional-neural-networks-simplified-demystified/</sup>"
   ]
  },
  {
   "cell_type": "markdown",
   "metadata": {
    "id": "49tz7GkVpG3M"
   },
   "source": [
    "**Activation function**\n",
    "\n",
    "Activation functions introduce non-linearities in the data transformation pipeline. Without such non-linearities, a neural network would be equivalent to a linear transformation and could be reduced to a matrix multiplication. They are usually placed after a convolution layer. The list of activation functions impletmented in TF are given in the doc:\n",
    "\n",
    "https://www.tensorflow.org/api_docs/python/tf/keras/activations\n",
    "\n",
    "The activation functions choice might dramatically influence your performance. When you are designing a CNN, you should check both the shape and the output domain of the activation function. For example, the output of a ReLu function is greater than 0 while Tanh outputs values between -1 and 1."
   ]
  },
  {
   "cell_type": "markdown",
   "metadata": {
    "id": "5FTwm-NnwMlo"
   },
   "source": [
    "**Pooling layer**\n",
    "\n",
    " There are basically two types of Pooling: **Max Pooling** and **Average Pooling.**\n",
    "\n",
    "Max Pooling returns the maximum value from the portion of the image covered by the Kernel. On the other hand, Average Pooling returns the average of all the values from the portion of the image covered by the Kernel.\n",
    "\n",
    "Max Pooling can serve as a sort of Noise Suppressant. It discards the noisy activations altogether and also performs de-noising along with dimensionality reduction. On the other hand, Average Pooling simply performs dimensionality reduction. Hence, we can say that usually, Max Pooling performs a better than Average Pooling.\n",
    "![image.png](data:image/png;base64,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)\n",
    "\n"
   ]
  },
  {
   "cell_type": "markdown",
   "metadata": {
    "id": "qJGn2UD7yIvB"
   },
   "source": [
    "**Stride** is the length that our filter is translated (fixed to move across and down) pixel to pixel. With higher stride values, we move large number of pixels at a time and hence produce smaller output volumes."
   ]
  },
  {
   "cell_type": "markdown",
   "metadata": {
    "id": "S1SoosN8173D"
   },
   "source": [
    "**Flattening**\n",
    "\n",
    "Flattening, as the name suggests, simply converts the last convolutional layer into a one-dimensional NN layer. It sets the stage for the actual predictions.\n",
    "<br>\n",
    "<br>\n",
    "Finally, all of the principles regarding NNs (i.e. weights, activation, loss, optimization, backpropagation, batch size and regularization) apply to CNNs as well and are no different from those for fully connected networks."
   ]
  },
  {
   "cell_type": "markdown",
   "metadata": {
    "id": "keq7gLNz_P1r"
   },
   "source": [
    "\n",
    "### 4.4.1 Defining a convolutional neural network in tf.keras\n",
    "\n",
    "The code below defines a (not very good)  CNN using only the concepts discussed before.\n",
    "\n",
    "As input, a CNN takes tensors of shape (image_height, image_width, color_channels), ignoring the batch size. The batch size is automatically added by TF as the fourth dimension.\n",
    "\n",
    "In this example, we already formatted our data to have a shape of (128, 128, 3), we then just have to let the CNN process inputs of this shape. We do this by passing the argument shape to our first layer.\n",
    "\n",
    "To complete our model, we will feed the last output tensor from the convolutional base (of shape (28, 28, 64)) into one Dense layer (or fully connected layer) to perform classification. You can think this as taking all the 2d processed filters and then do a 1-d signature, which then should be classified (as a dog, or a cat).  Dense layers take vectors as input (which are 1D), while the current output is a 2d tensor (vector, 2d because we have two output classes). Hence, we use a final Dense layer with 2 outputs and a softmax activation."
   ]
  },
  {
   "cell_type": "code",
   "execution_count": null,
   "metadata": {
    "id": "3hPPQQzUChdx"
   },
   "outputs": [],
   "source": [
    "# Creating a simple CNN model in keras using functional API\n",
    "def create_model():\n",
    "\n",
    "  # Harcoded image size\n",
    "  IMG_SIZE = 128\n",
    "  FIX_IMG_SHAPE = (IMG_SIZE, IMG_SIZE, 3)\n",
    "\n",
    "  # We fix out input shape in here, no batch size required\n",
    "  img_inputs = keras.Input(shape=FIX_IMG_SHAPE)\n",
    "\n",
    "  # How to read this line:\n",
    "  # First convolution layer\n",
    "  # The number of filters is 16 which defines the output space\n",
    "  # they are 3 by 3 filters (kernel size)\n",
    "  # and have a rectified liner unit as activation\n",
    "  # we plug this after 'img_input' layer\n",
    "  conv_1 = keras.layers.Conv2D(16, (3, 3), activation='relu')(img_inputs)\n",
    "\n",
    "\n",
    "  # Maxpool layer of size 2 by 2.\n",
    "  # The stride is set as sdefault (1)\n",
    "  # We plug this after our first convolution\n",
    "  maxpool_1 = keras.layers.MaxPooling2D((2, 2))(conv_1)\n",
    "\n",
    "\n",
    "  # Second pair convolution-max pooling layers.\n",
    "  # Check that we now set 64 filters (sanity check).\n",
    "  conv_2 = keras.layers.Conv2D(32, (3, 3), activation='relu')(maxpool_1)\n",
    "  maxpool_2 = keras.layers.MaxPooling2D((2, 2))(conv_2)\n",
    "\n",
    "  # We finished with another convolution\n",
    "  conv_3 = keras.layers.Conv2D(32, (3, 3), activation='relu')(maxpool_2)\n",
    "\n",
    "  # Finally we flatten the output of conv_3 to become a 1d vector.\n",
    "  flatten = keras.layers.Flatten()(conv_3)\n",
    "\n",
    "  # That then we pass to a Densely connected layer with 32 neurons\n",
    "  # Those 64 neurons with the activation function should now be our \"clasification layer\"\n",
    "  dense_1 = keras.layers.Dense(32, activation='relu')(flatten)\n",
    "\n",
    "  # which is then connected to our LAST layer with only 2 neurons (because we have two classes)\n",
    "  # softmax will then activate only the one with highest probability.\n",
    "  output = keras.layers.Dense(metadata.features['label'].num_classes, activation='softmax')(dense_1)\n",
    "\n",
    "  # Finally, We just need to give in input and out layer to the model constructor function\n",
    "  # All the layers are already connected to the network graph.\n",
    "  model = keras.Model(inputs=img_inputs, outputs=output)\n",
    "\n",
    "  return model"
   ]
  },
  {
   "cell_type": "code",
   "execution_count": null,
   "metadata": {
    "id": "BtJcKhrJ-5uJ"
   },
   "outputs": [],
   "source": [
    "simple_model = create_model()\n",
    "\n",
    "# Use the summary function to display (and check) your network\n",
    "simple_model.summary()"
   ]
  },
  {
   "cell_type": "markdown",
   "metadata": {
    "id": "sx4QU67o49R5"
   },
   "source": [
    "Above we should be able to see the architecture in detail, from the input data to the last classification layer.\n",
    "\n",
    "From here, one important metric to always keep your eye is the number of trainable parameters. Any measure describing how \"big\" your network is must be related to the number of free parameters, rather than the number of layers.\n",
    "\n",
    "The more the free parameters (trainable), more are the chances of overfitting.\n",
    "\n",
    "In the summary above, you see the huge number of free parameters of the Dense layer in comparison to the convolution layers.\n",
    "\n",
    "In here a nice and brief explanation on how these parameters scale:\n",
    "\n",
    "https://towardsdatascience.com/counting-no-of-parameters-in-deep-learning-models-by-hand-8f1716241889\n",
    "\n"
   ]
  },
  {
   "cell_type": "markdown",
   "metadata": {
    "id": "9sI-sjcFgaKx"
   },
   "source": [
    "### 4.4.2 Training\n",
    "\n",
    "So we have our architecture set-up, and we would like to train our new network. A priori, in order to train your network you just need two things: a loss function and an optimizer algorithm.\n",
    "\n",
    "The end goal of our classifier is to reduce the difference between the predicted output and the ground-truth (label). The metric or function that quantifies this is the so-called \"Cost function\" or **Loss function**. The role of the **optimizer** is then to update the weight parameters (learnable parameters) to minimize the loss function.\n",
    "\n",
    "There are several pre-defined loss functions, each one penalizing slightly differently wrong outputs, and therefore making them more suitable in different scenarios. In addition, you could make your own tailored loss function.\n",
    "\n",
    "For a full list of the available loss functions:\n",
    "\n",
    "https://www.tensorflow.org/api_docs/python/tf/keras/losses\n",
    "\n",
    "Feel free to go and read all about each one of the listed loss functions and chose your favourite one.\n",
    "\n",
    "On the other hand, the optimizer defines the strategy on how the weights are updated in each iteration, based on the predicted loss. New optimizers are not as easy to define as new loss functions.\n",
    "\n",
    "In here a list of the available optimizers implemented in Tensorflow\n",
    "\n",
    "https://www.tensorflow.org/api_docs/python/tf/keras/optimizers\n",
    "\n",
    "As you can imagine, the training performance will depend on the selected pair: optimizer, loss function. Selecting one will depend greatly on your data and the type of problem (binary or multiclass classification, regression, etc.). A quite updated lecture on this:\n",
    "\n",
    "https://machinelearningmastery.com/how-to-choose-loss-functions-when-training-deep-learning-neural-networks/"
   ]
  },
  {
   "cell_type": "code",
   "execution_count": null,
   "metadata": {
    "id": "fnX24sMwBmXB"
   },
   "outputs": [],
   "source": [
    "import os\n",
    "\n",
    "def train_model(model):\n",
    "\n",
    "\n",
    "    # The way to define both parameters is by \"compiling\" our model\n",
    "    # This will set all the necessary internal modules to compute the forward (prediction)\n",
    "    # and back (derivation) propagation steps\n",
    "    # The metric(s) parameter serves as an output metric indicator of the performance\n",
    "    # at each iteration. (See tensorboard subsection below)\n",
    "    model.compile(optimizer='adam',\n",
    "                  loss='sparse_categorical_crossentropy',\n",
    "                  metrics=['accuracy'])\n",
    "\n",
    "\n",
    "\n",
    "    # Creating Keras callbacks\n",
    "    # See tensorboard subsection\n",
    "    # In here we ask to log at each iteration the performance of our training.\n",
    "    tensorboard_callback = tf.keras.callbacks.TensorBoard(log_dir=log_dir, histogram_freq=1)\n",
    "    model_checkpoint_callback = keras.callbacks.ModelCheckpoint(\n",
    "        'training_checkpoints/weights.{epoch:02d}-{val_loss:.2f}.hdf5', epoch=2)\n",
    "    os.makedirs('training_checkpoints/', exist_ok=True)\n",
    "\n",
    "\n",
    "    # We can also stop our training after a given number of iterations.\n",
    "    # For instance if the model converged (to a minima), or even diverged.\n",
    "    early_stopping_checkpoint = keras.callbacks.EarlyStopping(patience=5)\n",
    "\n",
    "\n",
    "    # We perform the training by calling the .fit function\n",
    "    # We can directly pass the train and validation objects, to the .fit() function,\n",
    "    # by calling .repeat() on them so that the training keeps looping over the\n",
    "    # dataset for the specified number of epochs.\n",
    "    history = model.fit(train.repeat(),\n",
    "              epochs=15,\n",
    "              steps_per_epoch=steps_per_epoch,\n",
    "              validation_data=validation.repeat(),\n",
    "              validation_steps=validation_steps,\n",
    "              callbacks=[tensorboard_callback,\n",
    "                         model_checkpoint_callback,\n",
    "                         early_stopping_checkpoint])\n",
    "\n",
    "    return history"
   ]
  },
  {
   "cell_type": "markdown",
   "metadata": {
    "id": "wbKrI06EDZR-"
   },
   "source": [
    "Above we have enclosed the compilation, callback logs and the training fit in a single function. However, as you should notice we still need to define a couple of variables up there:\n",
    "\n",
    "The first unknown (and not declared yet) variable is `log_dir`. This variable is a directory where you will save \"locally\" the information of the training metrics. The directory need to follow a specific format so tensorflow can display correctly our training metric data.\n",
    "\n",
    "The second is the `steps_per_epoch` and `validation_steps`. This is defined because we \"encapsulated\" our data in batches, remember? So:\n",
    "\n",
    "*  `steps_per_epoch`: It defines the number of batches on which we train our model in one epoch. It's calculated by dividing the number of training examples by the size of each batch.\n",
    "\n",
    "* `validation_steps`:  It defines the number of batches on which we validate our model in one epoch. It's calculated by dividing the number of validation examples by the size of each batch.\n",
    "\n"
   ]
  },
  {
   "cell_type": "code",
   "execution_count": null,
   "metadata": {
    "id": "ardp41xH_X8x"
   },
   "outputs": [],
   "source": [
    "import datetime, os\n",
    "\n",
    "# Clear any logs from previous runs\n",
    "!rm -rf ./logs/\n",
    "log_dir = \"logs/fit/\" + datetime.datetime.now().strftime(\"%Y%m%d-%H%M%S\")\n",
    "os.makedirs(log_dir)\n",
    "\n",
    "SPLIT_WEIGHTS = (8, 1, 1)\n",
    "num_train, num_val, num_test = (\n",
    "  metadata.splits['train'].num_examples * weight//10 for weight in SPLIT_WEIGHTS\n",
    ")\n",
    "\n",
    "steps_per_epoch = round(num_train/batch_size)\n",
    "validation_steps = round(num_val/batch_size)\n",
    "\n",
    "print('Number of examples in the train set:', num_train)\n",
    "print('Number of examples in the validation set:', num_val)\n",
    "print('Number of examples in the test set:', num_test)\n"
   ]
  },
  {
   "cell_type": "markdown",
   "metadata": {
    "id": "l6gMI4cPAC4L"
   },
   "source": [
    "Now that we have defined these variables as (WARNING) global variables in the environment, we can call our training.  \n",
    "\n",
    "Appreciate the fact that you don't need to train this in your laptop's CPUs."
   ]
  },
  {
   "cell_type": "code",
   "execution_count": null,
   "metadata": {
    "id": "ulw3wwFvAwuC"
   },
   "outputs": [],
   "source": [
    "history = train_model(simple_model)"
   ]
  },
  {
   "cell_type": "markdown",
   "metadata": {
    "id": "_LObnL8fF3mR"
   },
   "source": [
    "Once the training is over, you can read the progress of your training (accuracy and loss).\n",
    "\n",
    "To visualize this directly you can plot both the training and validation accuracy:"
   ]
  },
  {
   "cell_type": "code",
   "execution_count": null,
   "metadata": {
    "id": "7l5WG2XvaMrp"
   },
   "outputs": [],
   "source": [
    "# we can extract both vectors from the history history dictionary\n",
    "accuracy     = history.history['accuracy']\n",
    "val_accuracy = history.history['val_accuracy']\n",
    "\n",
    "# Same for the loss performance\n",
    "loss     = history.history['loss']\n",
    "val_loss = history.history['val_loss']\n",
    "\n",
    "# First is the accuracy rangin from 0 to 1.\n",
    "# Since we have 2 clases, we expect that we can achieve something better than 0.5\n",
    "# which is the performance of doing a completely random choice...\n",
    "plt.figure(figsize=(8, 8))\n",
    "plt.subplot(2, 1, 1)\n",
    "plt.plot(accuracy, label='Training Accuracy')\n",
    "plt.plot(val_accuracy, label='Validation Accuracy')\n",
    "plt.legend(loc='lower right')\n",
    "plt.ylabel('Accuracy')\n",
    "plt.title('Training and Validation Accuracy')\n",
    "\n",
    "# The training losss then will give us an insight of the progress done at each epoc.\n",
    "# we can decide for instance that more epocs were necessary... or less.\n",
    "plt.subplot(2, 1, 2)\n",
    "plt.plot(loss, label='Training Loss')\n",
    "plt.plot(val_loss, label='Validation Loss')\n",
    "plt.legend(loc='upper right')\n",
    "plt.ylabel('Cross Entropy')\n",
    "plt.title('Training and Validation Loss')\n",
    "plt.xlabel('epoch')\n",
    "plt.show()"
   ]
  },
  {
   "cell_type": "markdown",
   "metadata": {
    "id": "zkM0pO1pHCA3"
   },
   "source": [
    "\n",
    "These graphs give us insights into how well our model was trained. It is necessary to ensure that both the training and validation accuracies increase and losses decrease.\n",
    "\n",
    "For instance, if the **training accuracy is high** but the **validation accuracy is low**, then it's a typical case of overfitting. You may have to increase your training dataset by performing data augmentation or downloading more images from the internet. You can also try out other model architectures which include regularisation techniques like Dropout and BatchNormalisation.\n",
    "If on the other hand your training accuracy and validation accuracy both are higher but, your validation accuracy is slightly higher then maybe your validation dataset comprises of ideal images of the given classes.\n",
    "\n",
    "Take for example the history of one training run on another test network (yours may be different)\n",
    "\n",
    "We can see the signs of overfitting on these two graphs.\n",
    "\n",
    "If this is not clear to you, this is the moment to go back to one of the suggested lectures:\n",
    "\n",
    "https://www.tensorflow.org/tutorials/keras/overfit_and_underfit"
   ]
  },
  {
   "cell_type": "markdown",
   "metadata": {
    "id": "mt3aO9HEFjF2"
   },
   "source": [
    "![image.png](data:image/png;base64,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)"
   ]
  },
  {
   "cell_type": "markdown",
   "metadata": {
    "id": "UKM10UFGa1UC"
   },
   "source": [
    "**Tensorboard**\n",
    "\n",
    "Another option to check our learning curves is to use Tensorboard. Tensorboard works by reading the event files (which you saved beforehand) where Tensorflow writes some summary data. Tensorboard is already available and needs first to be loaded (in collab: %load_ext tensorboard) and then summoned (%tensorboard --logdir [dir]) where [dir] is the event files location.\n",
    "\n",
    "One cool thing is that you can check the graph evolution while your model is training, so if something starts looking disastrous, you can always early terminate yourself the training."
   ]
  },
  {
   "cell_type": "code",
   "execution_count": null,
   "metadata": {
    "id": "_moyiS3pEtX_"
   },
   "outputs": [],
   "source": [
    "%load_ext tensorboard"
   ]
  },
  {
   "cell_type": "code",
   "execution_count": null,
   "metadata": {
    "id": "DIZfzvdrAyMd"
   },
   "outputs": [],
   "source": [
    "%tensorboard --logdir logs/fit"
   ]
  },
  {
   "cell_type": "markdown",
   "metadata": {
    "id": "OxqTz-gYA7Me"
   },
   "source": [
    "## 4.5 Using pre-trained models"
   ]
  },
  {
   "cell_type": "markdown",
   "metadata": {
    "id": "4sfCLwfnA_05"
   },
   "source": [
    "In the previous section, we trained a simple CNN which gave us an accuracy of ~70%. We can easily do much better than this by using larger and more complex architectures. There are many open-source pre-trained networks available for the similar image classification task as of ours.\n",
    "\n",
    "A pre-trained model is a saved network that was previously trained on a large dataset, typically on a large-scale image-classification task. We can either use the pre-trained model as it is or perform transfer learning using the pre-trained model. The intuition behind transfer learning is that if this model was trained on a large and general enough dataset, then this model will effectively serve as a generic model of the visual world. We can leverage these learned features maps without having to train a new large model on a large dataset.\n",
    "\n",
    "https://keras.io/applications/\n",
    "\n",
    "\n",
    "**Downloading a pre-trained model**\n",
    "\n",
    "We will create a base model from the VGG16 model developed at Google, and pre-trained on the ImageNet dataset, a large dataset of 1.4M images and 1000 classes of web images. This model has already learned the basic features that are common in 1000 objects that we see daily. Hence, it has a strong feature extraction capability. We download a network that doesn’t include the classification layers (Dense layers) at the top, by specifying include_top=False argument, because we only want to use the feature extraction portion of these pre-trained convnets (convolutional base) since they are likely to be generic features and learned concepts over a picture. The classification part of the pre-trained model is often specific to the original classification task, and subsequently specific to the set of classes on which the model was trained."
   ]
  },
  {
   "cell_type": "code",
   "execution_count": null,
   "metadata": {
    "id": "K9qsqj5ZgaoL"
   },
   "outputs": [],
   "source": [
    "from tensorflow import keras\n",
    "\n",
    "# Create the base model from the pre-trained model VGG16\n",
    "# include_top means that you will also include the last top layer (the clasification layer)\n",
    "# We set to false, so we can override this and inlcude OURS classification layer\n",
    "# We need als oto define que input shape correctly\n",
    "base_pre_trained_model = keras.applications.vgg16.VGG16(input_shape=(128,128,3),\n",
    "                                               include_top=False,\n",
    "                                               weights='imagenet')"
   ]
  },
  {
   "cell_type": "markdown",
   "metadata": {
    "id": "iyj2Um1Bgeu6"
   },
   "source": [
    "**Adding a classification layer**\n",
    "\n",
    "While downloading the pre-trained model we had removed the classification part of it, by specifying include_top=False parameter, since it is specific to the set of classes on which the model was trained. We now add a new classification layer which would be specific to our dog vs cat classification. We plug these new layers on top of our base model using Keras’s Sequential API."
   ]
  },
  {
   "cell_type": "code",
   "execution_count": null,
   "metadata": {
    "id": "dcQJKA1fgnZc"
   },
   "outputs": [],
   "source": [
    "def build_pirated_model():\n",
    "\n",
    "    # Using Sequential API to stack up the layers\n",
    "    base_pre_trained_model.trainable = False\n",
    "    model = keras.Sequential([\n",
    "        base_pre_trained_model,\n",
    "        keras.layers.GlobalAveragePooling2D(),\n",
    "        keras.layers.Dense(metadata.features['label'].num_classes,\n",
    "                           activation='softmax')\n",
    "    ])\n",
    "\n",
    "    # Compile the model to configure training parameters\n",
    "    model.compile(optimizer='adam',\n",
    "                  loss='sparse_categorical_crossentropy',\n",
    "                  metrics=['accuracy'])\n",
    "    return model\n",
    "\n",
    "new_VGG16_model = build_pirated_model()\n",
    "new_VGG16_model.summary()"
   ]
  },
  {
   "cell_type": "markdown",
   "metadata": {
    "id": "Jo453nK3guUR"
   },
   "source": [
    "The code is very easy to understand:\n",
    "\n",
    "We are generating a new network passing first, the VGG16 network without the classifciation layer, then we are using a Pooling layer 2d (keras.layers.GlobalAveragePooling2D()) layer and convert it to a single 2048-element vector per image. After this, we add a keras.layers.Dense() for the single prediction of the 2 classes.\n",
    "\n",
    "It’s important to notice that we freeze the base model weights before we compile and train the model, we do this by base_pre_trained_model.trainable = False.\n",
    "\n",
    "Freezing means that we will not let the optimizer updating or modifying the pretarined network. The weights remain trained with it's original database (which was much larger and richer than our). Because of this, the only \"trainable parameters\" are those from the last added layers. We then train the model using the same steps that we used to train our simple CNN.\n"
   ]
  },
  {
   "cell_type": "code",
   "execution_count": null,
   "metadata": {
    "id": "2ObreeowhJAb"
   },
   "outputs": [],
   "source": [
    "log_dir=\"logs/fit/\" + datetime.datetime.now().strftime(\"%Y%m%d-%H%M%S\")\n",
    "os.makedirs(log_dir)\n",
    "\n",
    "# Creating Keras callbacks\n",
    "tensorboard_callback = keras.callbacks.TensorBoard(log_dir=log_dir, histogram_freq=1)\n",
    "model_checkpoint_callback = keras.callbacks.ModelCheckpoint(\n",
    "    'training_checkpoints/weights.{epoch:02d}-{val_loss:.2f}.hdf5', epoch=5)\n",
    "os.makedirs('training_checkpoints/', exist_ok=True)\n",
    "early_stopping_checkpoint = keras.callbacks.EarlyStopping(patience=5)\n",
    "\n",
    "\n",
    "history = new_VGG16_model.fit(train.repeat(),\n",
    "                              epochs=15,\n",
    "                              steps_per_epoch = steps_per_epoch,\n",
    "                              validation_data=validation.repeat(),\n",
    "                              validation_steps=validation_steps,\n",
    "                              callbacks=[tensorboard_callback,\n",
    "                              model_checkpoint_callback,\n",
    "                              early_stopping_checkpoint])"
   ]
  },
  {
   "cell_type": "code",
   "execution_count": null,
   "metadata": {
    "id": "fa1rDHVhhMmK"
   },
   "outputs": [],
   "source": [
    "acc = history.history['accuracy']\n",
    "val_acc = history.history['val_accuracy']\n",
    "\n",
    "loss = history.history['loss']\n",
    "val_loss = history.history['val_loss']\n",
    "\n",
    "plt.figure(figsize=(8, 8))\n",
    "plt.subplot(2, 1, 1)\n",
    "plt.plot(acc, label='Training Accuracy')\n",
    "plt.plot(val_acc, label='Validation Accuracy')\n",
    "plt.legend(loc='lower right')\n",
    "plt.ylabel('Accuracy')\n",
    "plt.title('Training and Validation Accuracy')\n",
    "\n",
    "plt.subplot(2, 1, 2)\n",
    "plt.plot(loss, label='Training Loss')\n",
    "plt.plot(val_loss, label='Validation Loss')\n",
    "plt.legend(loc='upper right')\n",
    "plt.ylabel('Cross Entropy')\n",
    "plt.title('Training and Validation Loss')\n",
    "plt.xlabel('epoch')\n",
    "plt.show()"
   ]
  },
  {
   "cell_type": "markdown",
   "metadata": {
    "id": "6kC_LmbycRMY"
   },
   "source": [
    "**But wait**, our new model is not exactly doing much better. This is likely because re-training only the very last layers is not enough to the network to adapt itself to our new dataset, we can then fine tune further by training more and more layers from the original base network, trying to find a balance between learning from our dataset and exploiting the pretrained weights.  "
   ]
  },
  {
   "cell_type": "code",
   "execution_count": null,
   "metadata": {
    "id": "GbwbuVo1hSJ0"
   },
   "outputs": [],
   "source": [
    "# Save the previous model new_VGG16_model with a very descriptive name\n",
    "new_VGG16_model.save('new_VGG16_model_test1_didnt_work_cest_la_vie.h5')"
   ]
  },
  {
   "cell_type": "code",
   "execution_count": null,
   "metadata": {
    "id": "JK24ZyaQhWry"
   },
   "outputs": [],
   "source": [
    "# then you can load back this model to compare\n",
    "load_model_failure = keras.models.load_model('new_VGG16_model_test1_didnt_work_cest_la_vie.h5')"
   ]
  },
  {
   "cell_type": "code",
   "execution_count": null,
   "metadata": {
    "id": "eTYSJKKBhXFy"
   },
   "outputs": [],
   "source": [
    "def build_pirated_fine_tuned_model(fine_tune_at = 17):\n",
    "    # We un-freeze all the layers\n",
    "    base_pre_trained_model = keras.applications.vgg16.VGG16(input_shape=(128,128,3),\n",
    "                                               include_top=False,\n",
    "                                               weights='imagenet')\n",
    "    base_pre_trained_model.trainable = True\n",
    "    # Let's take a look to see how many layers are in the base model\n",
    "    print(\"Number of layers in the base model: \", len(base_pre_trained_model.layers))\n",
    "\n",
    "    # Fine tune from this layer onwards\n",
    "    print(\"We are fine tuning from the {} layer\".format(fine_tune_at))\n",
    "\n",
    "    # Freeze all the layers before the `fine_tune_at` layer\n",
    "    for layer in base_pre_trained_model.layers[:fine_tune_at-1]:\n",
    "        layer.trainable =  False\n",
    "\n",
    "    # Using Sequential API to stack up the layers\n",
    "    model = keras.Sequential([\n",
    "        base_pre_trained_model,\n",
    "        keras.layers.GlobalAveragePooling2D(),\n",
    "        keras.layers.Dense(metadata.features['label'].num_classes,\n",
    "                           activation='softmax')\n",
    "    ])\n",
    "\n",
    "\n",
    "    # Compile the model to configure training parameters\n",
    "    model.compile(optimizer='adam',\n",
    "                  loss='sparse_categorical_crossentropy',\n",
    "                  metrics=['accuracy'])\n",
    "    return model\n",
    "\n",
    "fine_tunned_VGG16_model = build_pirated_fine_tuned_model(18)\n",
    "fine_tunned_VGG16_model.summary()\n"
   ]
  },
  {
   "cell_type": "code",
   "execution_count": null,
   "metadata": {
    "id": "yxpiruLWjVP8"
   },
   "outputs": [],
   "source": [
    "log_dir=\"logs/fit/\" + datetime.datetime.now().strftime(\"%Y%m%d-%H%M%S\")\n",
    "os.makedirs(log_dir)\n",
    "\n",
    "# Creating Keras callbacks\n",
    "tensorboard_callback = keras.callbacks.TensorBoard(log_dir=log_dir, histogram_freq=1)\n",
    "model_checkpoint_callback = keras.callbacks.ModelCheckpoint(\n",
    "    'training_checkpoints/weights.{epoch:02d}-{val_loss:.2f}.hdf5', epoch=5)\n",
    "os.makedirs('training_checkpoints/', exist_ok=True)\n",
    "early_stopping_checkpoint = keras.callbacks.EarlyStopping(patience=5)\n",
    "\n",
    "\n",
    "history_fine = fine_tunned_VGG16_model.fit(train.repeat(),\n",
    "                                  steps_per_epoch = steps_per_epoch,\n",
    "                                  epochs=25,\n",
    "                                  initial_epoch = 5,\n",
    "                                  validation_data=validation.repeat(),\n",
    "                                  validation_steps=validation_steps,\n",
    "                                  callbacks=[tensorboard_callback,\n",
    "                                  model_checkpoint_callback,\n",
    "                                  early_stopping_checkpoint])\n"
   ]
  },
  {
   "cell_type": "code",
   "execution_count": null,
   "metadata": {
    "id": "qqVHGpKVjWyK"
   },
   "outputs": [],
   "source": [
    "acc = history_fine.history['accuracy']\n",
    "val_acc = history_fine.history['val_accuracy']\n",
    "\n",
    "loss = history_fine.history['loss']\n",
    "val_loss = history_fine.history['val_loss']\n",
    "\n",
    "initial_epochs=5\n",
    "\n",
    "plt.figure(figsize=(8, 8))\n",
    "plt.subplot(2, 1, 1)\n",
    "plt.plot(acc, label='Training Accuracy')\n",
    "plt.plot(val_acc, label='Validation Accuracy')\n",
    "plt.plot([initial_epochs-1,initial_epochs-1],\n",
    "          plt.ylim(), label='Start Fine Tuning')\n",
    "plt.legend(loc='lower right')\n",
    "plt.title('Training and Validation Accuracy')\n",
    "\n",
    "plt.subplot(2, 1, 2)\n",
    "plt.plot(loss, label='Training Loss')\n",
    "plt.plot(val_loss, label='Validation Loss')\n",
    "plt.plot([initial_epochs-1,initial_epochs-1],\n",
    "         plt.ylim(), label='Start Fine Tuning')\n",
    "plt.legend(loc='upper right')\n",
    "plt.title('Training and Validation Loss')\n",
    "plt.xlabel('epoch')\n",
    "plt.show()"
   ]
  },
  {
   "cell_type": "markdown",
   "metadata": {
    "id": "3T2ii6AUR3if"
   },
   "source": [
    "Here we can visualize again the 3 networks together and evaluate, overfitting and accuracy."
   ]
  },
  {
   "cell_type": "code",
   "execution_count": null,
   "metadata": {
    "id": "AOEnAta8RsvE"
   },
   "outputs": [],
   "source": [
    "%tensorboard --logdir logs/fit"
   ]
  },
  {
   "cell_type": "markdown",
   "metadata": {
    "id": "cFeqWYqwjZ0S"
   },
   "source": [
    "In summary: When working with a small dataset, it is common to leverage the features learned by a model trained on a larger dataset in the same domain. This is done by instantiating the pre-trained model and adding a fully connected classifier on top. The pre-trained model is \"frozen\" and only the weights of the classifier are updated during training. In this case, the convolutional base extracts all the features associated with each image and we train a classifier that determines, given these set of features to which class it belongs.\n",
    "\n",
    "https://www.tensorflow.org/tutorials/images/transfer_learning"
   ]
  },
  {
   "cell_type": "markdown",
   "metadata": {
    "id": "yIQGbs7Vjdm6"
   },
   "source": [
    "## 4.6 Exercise. Your turn.\n",
    "(*60 points*)\n",
    "\n",
    "\n",
    "Now is time for you to do an intense copy-pasting.\n",
    "\n",
    "\n",
    "**From our examples above, there's quite a bit of room for improvement.** From changing the architecture in 4.4.1, to train for more epochs, use different loss functions, optimization algorithm, and a different network for transfer learning.   \n",
    "\n",
    "**Your exercise is to re-do everything done so far (and tweak it) using nother dataset, and explain to us what you did, and why.**\n",
    "\n",
    "**The solution will NOT be evaluated as successful if you did exactly what it was done in the examples of this notebook. It is expected that from the information provided above you are able to search and enhance/modify any step so it suits better your classification problem**\n",
    "\n",
    "Below the specification of what your model should deploy. Each one of those points will count as an individual exercise.  \n",
    "\n",
    "1. Choose a **new** dataset from TFDatasets.   <br />\n",
    "*   The dataset should contain at least **3 classes** for classification (num_classes=3).\n",
    "*   The image should have a resolution bigger than (64,64) and 3 color channels (RGB)\n",
    "*   After dowloading the dataset, display all the relevant information of the dataset and explain the composition of the dataset.\n",
    "<br />\n",
    "<br />\n",
    "2. Perform any pre-processing required and explain each step.\n",
    "*  The data need to be correctly normalized and reshaped depending on your network architecture.\n",
    "*  Split the dataset in relevant datasets and explain why such split was chosen.\n",
    "*  Perform data augmentation to enhance the dataset and avoid relevant overfitting. Explain what and why you performed any relevant transformation. Don't be limited to the transformation in our example.\n",
    "<br />\n",
    "<br />\n",
    "3. Build an image classifier from scratch.\n",
    "* In here you have the freedom to explore and create a network architecture using the basic layers in the example or from other sources.\n",
    "* You have to describe in detail the network architecture.\n",
    "* Your network, however, cannot have more than **3,000,000 trainable parameters**. Show that it doesn't.\n",
    "* Provide relevant visualizations of the training accuracy or loss function over the training process.\n",
    "* Discuss in detail if any overfitting is present, and the evolution of the training.\n",
    "* The score of your work will be based on the achieved accuracy, but more importantly, on how is described and the results are presented (and that no weird training behaviours are present).\n",
    "<br />\n",
    "<br />\n",
    "4. Download any of the pre-trained models available on TensorFlow (different from VGG16, which is not really good anyway) and fine-tune the network for your classification problem.\n",
    "*  You can use any network suited for your input data.\n",
    "* Describe in detail what's the network architecture and the sources from where it came from.\n",
    "* The total number of frozen parameters should be more than 65% of the total trainable parameters of the network.\n",
    "* Discuss in detail if any overfitting is present, and the evolution of the training.\n",
    "\n",
    "\n",
    "Finally, **you need to save both models and include them when uploading the solution to moodle**. No score will be granted if we cannot evaluate your network in the held-out data.\n",
    "\n"
   ]
  },
  {
   "cell_type": "markdown",
   "metadata": {
    "id": "As-n5--ymFxK"
   },
   "source": [
    "\n",
    "**Solution Start**   "
   ]
  },
  {
   "cell_type": "markdown",
   "metadata": {
    "id": "AZGyTUPwedJb"
   },
   "source": [
    "**Important** Add the solution for each step below. If you need to make tests and preliminary code, make a copy of the notebook and in here just include your solution\n",
    "\n",
    "**Important** Explain each step of your solution using the markdown cells.\n",
    "Any function or code rutine not properly explained or commented, will not be considered as your solution.  "
   ]
  },
  {
   "cell_type": "markdown",
   "metadata": {
    "id": "WV07XGWBpsGc"
   },
   "source": [
    "### 4.6.1 Choose a new dataset from TFDatasets."
   ]
  },
  {
   "cell_type": "code",
   "execution_count": null,
   "metadata": {
    "id": "5ursVKp0prc8"
   },
   "outputs": [],
   "source": [
    "def splittedDatasets(*args):\n",
    "  \"\"\"Returns three datasets: train validation test.\n",
    "     args:\n",
    "          the splits (percentage of the data) are given in the arguments.\n",
    "  \"\"\"\n",
    "  return train, validation, test"
   ]
  },
  {
   "cell_type": "markdown",
   "metadata": {
    "id": "lNqUohwJeanC"
   },
   "source": [
    "### 4.6.2 Perform any pre-processing required and explain each step.\n"
   ]
  },
  {
   "cell_type": "code",
   "execution_count": null,
   "metadata": {
    "id": "NHABgjEN73NQ"
   },
   "outputs": [],
   "source": []
  },
  {
   "cell_type": "markdown",
   "metadata": {
    "id": "O0fntM62rhfQ"
   },
   "source": [
    "### 4.6.3 Build an image classifier from scratch."
   ]
  },
  {
   "cell_type": "code",
   "execution_count": null,
   "metadata": {
    "id": "ujFcmDLMrJ1e"
   },
   "outputs": [],
   "source": [
    "# Creating a simple CNN model in keras using functional API\n",
    "def create_model():\n",
    "\n",
    "\n",
    "  return model"
   ]
  },
  {
   "cell_type": "code",
   "execution_count": null,
   "metadata": {
    "id": "iYAqYtx9rtKA"
   },
   "outputs": [],
   "source": [
    "# Do not delete this, here we print the model information. Be sure to explain the architechture.\n",
    "first_model = create_model()\n",
    "first_model.summary()"
   ]
  },
  {
   "cell_type": "code",
   "execution_count": null,
   "metadata": {
    "id": "6OnW0TtTsB_b"
   },
   "outputs": [],
   "source": [
    "# All the training process should be self-contained in one function\n",
    "# This doesn't mean you cannot create helping funtions and make it MODULAR\n",
    "def train_model(model,*args):\n",
    "\n",
    "  return history\n"
   ]
  },
  {
   "cell_type": "code",
   "execution_count": null,
   "metadata": {
    "id": "vh3XSC6Lsaw8"
   },
   "outputs": [],
   "source": [
    "history = train_model(first_model)"
   ]
  },
  {
   "cell_type": "markdown",
   "metadata": {
    "id": "7oMsK9aXs6G3"
   },
   "source": [
    "Print all the relevant information to show that no overfitting is present,  either using tensorboard or any self-made function.\n",
    "\n",
    "Discuss the results in detail."
   ]
  },
  {
   "cell_type": "markdown",
   "metadata": {
    "id": "oMzuCjn1seR8"
   },
   "source": [
    "### 4.6.4 Download any of the pre-trained models available on TensorFlow and fine-tune the network for your classification problem.\n",
    "\n"
   ]
  },
  {
   "cell_type": "code",
   "execution_count": null,
   "metadata": {
    "id": "hpcrb7xgse4w"
   },
   "outputs": [],
   "source": [
    "def build_pretrained_model():\n",
    "\n",
    "    base_pre_trained_model = ...\n",
    "    # Using Sequential API to stack up the layers\n",
    "    base_pre_trained_model.trainable = False\n",
    "    model = keras.Sequential([\n",
    "      ...\n",
    "    ])\n",
    "\n",
    "    return model\n"
   ]
  },
  {
   "cell_type": "code",
   "execution_count": null,
   "metadata": {
    "id": "Gr5Zly1btJ3O"
   },
   "outputs": [],
   "source": [
    "new_model = build_pretrained_model()\n",
    "new_model.summary()"
   ]
  },
  {
   "cell_type": "code",
   "execution_count": null,
   "metadata": {
    "id": "lq7G63ZNQ9tu"
   },
   "outputs": [],
   "source": [
    "history = train_model(new_model)"
   ]
  },
  {
   "cell_type": "markdown",
   "metadata": {
    "id": "Rex6FfySQ9tu"
   },
   "source": [
    "Print all the relevant information to show that no overfitting is present,  either using tensorboard or any self-made function.\n",
    "\n",
    "Discuss the results in detail."
   ]
  },
  {
   "cell_type": "markdown",
   "metadata": {
    "id": "MLzMDR1SrKNJ"
   },
   "source": [
    "**Solution ends**"
   ]
  },
  {
   "cell_type": "markdown",
   "metadata": {
    "id": "n4FN6wh9XPtU"
   },
   "source": [
    "## 4.7 Variational Autoencoder : VAE\n",
    "(*40 points*)\n",
    "\n",
    "\n",
    "In the following section, we will cover another aspect of machine learning which manages the modeling aspect. The goal is to build a *model* that is capable of generating a new data sample that belongs to some learned distribution.\n",
    "There exist multiple sorts of generative models, but we will only consider the *Variational Autoencoder* or *VAE* for short.\n",
    "\n",
    "### 4.7.1 Network\n",
    "\n",
    "Variational Autoencoder model is composed of two components:\n",
    "\n",
    "  1. The encoder takes an image as input and predicts the parameters of a latent space, i.e. a space that describes the inputs with latent variables. It is assumed that the latent variables follow a multivariate gaussian distribution.\n",
    "  2. The decoder reconstructs the data from the latent space.\n",
    "\n",
    "The figure below shows the overall picture of a variational autoencoder. On the left side, the job of the *encoder* is to predict the *mean* and *variance* that represents the input image in the latent space. On the right side lies the decoder which reconstructs the image from the latent variable. The sampling step in the middle draws samples from the prior distribution configured with the output of the encoder.\n",
    "\n",
    "![](https://miro.medium.com/max/3374/1*22cSCfmktNIwH5m__u2ffA.png)\n",
    "\n",
    "\n",
    "**Background**\n",
    "\n",
    "The concept of a *Variational Autoencoder* has been presented in 2013 by [Kingma et al.](https://arxiv.org/abs/1312.6114) and [Rezende et al.](https://arxiv.org/abs/1401.4082) and falls into the *unsupervised learning*  category, meaning no label is required to learn the data distribution.\n",
    "\n",
    "Considering a probability framework, a variational autoencoder contains two components: a specific probability model of the data $x$ and latent variable $z$. The latent space can be seen as a compact representation of the data (*i.e. image compression*). The joint probability of the model is defined as $p\\left(x, z\\right) = p\\left(x | z\\right)p\\left(z\\right)$. New datapoints can then be generated as follow:\n",
    "\n",
    "- Draw latent variable $z_i \\sim p\\left(z\\right)$\n",
    "- Draw datapoint $x_i \\sim p\\left(x | z\\right)$\n",
    "\n",
    "From this, we want to *infer* good latent variables for some given observed data. Therefore we are interested to learn the posterior distribution $p\\left(z | x\\right)$. Using Bayes rule we known:\n",
    "\n",
    "$p\\left(z | x\\right) = \\frac{p\\left(x | z\\right) p\\left(z\\right)}{p\\left(x\\right)}$\n",
    "\n",
    "The denominator $p\\left(x\\right)$, called the evidence, can be computed by marginalizing out the latent variables:\n",
    "\n",
    "$p\\left(x\\right) = \\int p\\left(x | z\\right)p\\left(z\\right) dz $\n",
    "\n",
    "However in order to compute the integral, it needs to be evaluated over all possible configurations of latent variables. This isn't tractable and the posterior distribution needs to be approximated. Variational inference approximates it with a family of distributions $q_\\lambda \\left(z | x \\right)$.\n",
    "To measure how well the posterior $q_\\lambda \\left(z | x \\right)$ approximates the true posterior $p\\left(z | x\\right)$ we will use the Kullback-Leibler divergence. The KL divergence measures the amount of information lost when using $q$ to approximate $p$, defined as:\n",
    "\n",
    "$\\mathbb{K}\\mathbb{L} \\left(q_\\lambda \\left(z | x \\right) \\, || \\, p\\left(z | x\\right) \\right)) = \\boldsymbol{E}_q \\left[ \\log q_\\lambda \\left(z | x \\right) \\right] - \\boldsymbol{E}_q \\left[ \\log p\\left(x, z\\right)\\right] + \\log p\\left(x\\right) $\n",
    "\n",
    "We want to find the optimal variational parameters $\\lambda$ that minimizes the divergence. However at this point we still can not calculate it due to the evidence term. Consider the following function:\n",
    "\n",
    "$ELBO(\\lambda) = \\boldsymbol{E}_q \\left[ \\log p\\left(x, z\\right)\\right] - \\boldsymbol{E}_q \\left[ \\log q_\\lambda \\left(z | x \\right) \\right]$\n",
    "\n",
    "Combining the two together we get:\n",
    "\n",
    "$\\log p\\left(x\\right) = ELBO(\\lambda) + \\mathbb{K}\\mathbb{L} \\left(q_\\lambda \\left(z | x \\right) \\, || \\, p\\left(z | x\\right) \\right))$\n",
    "\n",
    "The Kullback-Leibler divergence is always greater than or equal to zero, meaning that minimizing the KL divergence is equivalent to maximizing the ELBO. The **E**vidence **L**ower **BO**und allows us to approximate the posterior without explicitly computing $p\\left(x\\right)$.\n",
    "\n",
    "The ELBO for a datapoint in the variational autoencoder is:\n",
    "\n",
    "$ELBO_i(\\lambda) = \\mathbb{E}q_{\\lambda}\\left(z | x_i \\right)\\left[ \\log p\\left(x_i | z\\right)\\right] - \\mathbb{K}\\mathbb{L} \\left(q_\\lambda \\left(z | x_i \\right) \\, || \\, p\\left(z\\right) \\right))$\n",
    "\n",
    "The first term constraints the reconstruction of the datapoint from the latent variable while the second term enforces the latent variables to follow the same distribution as the prior $p\\left(z\\right)$.\n",
    "\n",
    "The final step is to parameterize the approximated posterior $q_\\theta \\left(z | x, \\lambda \\right)$ with an *inference network* (*i.e. encoder*) which takes as input data $x$ and predicts the parameters $\\lambda$ (*i.e. parameters of the prior distribution*). The likelihood $p_\\phi \\left(x | z\\right)$ is parameterize with a *generative network* (*i.e. decoder*) which takes the latent variables as input and output the reconstructed data.\n",
    "\n",
    "Both network, the encoder and the decoder are parameterized by $\\theta$ and $\\phi$ respectively, which represent the weights and biases of the neural networks. The parameters $\\theta, \\phi$ are optimized to maximize the $ELBO$ using stochastic gradient descent."
   ]
  },
  {
   "cell_type": "markdown",
   "metadata": {
    "id": "_pSs9J83HfaS"
   },
   "source": [
    "### 4.7.2 Input pipeline\n",
    "\n",
    "In order to feed the variational autoencoder, we will use a `tf.data.Dataset` object.\n",
    "In the next cell, complete the implementation of the function that creates the dataset. We're going to work with digits from `mnist` and use both `train` and `test` partitions. Each image will be normalized to the range $\\left[0, 1\\right]$. Moreover the image is the input and the label as well.\n"
   ]
  },
  {
   "cell_type": "code",
   "execution_count": 15,
   "metadata": {
    "id": "0n02BNKOYJ54"
   },
   "outputs": [],
   "source": [
    "import tensorflow as tf\n",
    "import numpy as np\n",
    "\n",
    "# Create dataset\n",
    "def create_dataset(batch_sz):\n",
    "    \"\"\"\n",
    "    Create tf.data.Dataset object for our variational autoencoder. It also\n",
    "    adds standard preprocessing steps.\n",
    "    :param batch_sz:  Batch size\n",
    "    :return:  Tuple of tf.data.Dataset objects (train, test)\n",
    "    \"\"\"\n",
    "\n",
    "    # Load MNIST data/ unsupervised so no need for labels\n",
    "    (x_train, _), (x_test, _) = tf.keras.datasets.mnist.load_data()\n",
    "\n",
    "    # Normalize and reshape: convert [0, 255] to [0.0, 1.0]\n",
    "    x_train = x_train.astype('float32') / 255. \n",
    "    x_test = x_test.astype('float32') / 255.\n",
    "    \n",
    "   # Add channel dimension to match Conv2d layers: (28, 28) → (28, 28, 1)\n",
    "    x_train = np.expand_dims(x_train, -1)\n",
    "    x_test = np.expand_dims(x_test, -1)\n",
    "\n",
    "    # Create the labels as the image itself)\n",
    "    train_ds = tf.data.Dataset.from_tensor_slices((x_train, x_train))\n",
    "    test_ds = tf.data.Dataset.from_tensor_slices((x_test, x_test))\n",
    "\n",
    "    # Shuffle, batch, prefetch\n",
    "    train_ds = train_ds.batch(batch_sz).shuffle(1024).prefetch(tf.data.AUTOTUNE)\n",
    "    test_ds = test_ds.batch(batch_sz).prefetch(tf.data.AUTOTUNE)\n",
    "\n",
    "    return train_ds, test_ds\n"
   ]
  },
  {
   "cell_type": "markdown",
   "metadata": {
    "id": "CPuvO-otJF1-"
   },
   "source": [
    "### 4.7.3 Encoder Network\n",
    "\n",
    "The implementation of the encoder will be slightly different from what you have done earlier on. In order to have more flexibility to implement the loss function (i.e. ELBO)we  will implement the encoder and later on the decoder in custom classes subclassing `tf.keras.Model` [[link](https://www.tensorflow.org/guide/keras/custom_layers_and_models#building_models)].\n",
    "\n",
    "The encoder structure is as follow:\n",
    "\n",
    "|  Type  | Size | Kernel | Stride | Activation | Padding | name  \n",
    "|--------|:----:|:-----:|:-------:|:----------:|:-------:| ---   \n",
    "| Conv2D |  N   |  3x3  |   2     |    relu    |  same   | conv1 |\n",
    "| Conv2D |  N   |  3x3  |   2     |    relu    |  same   | conv2 |\n",
    "| Conv2D |  N   |  3x3  |   1     |    relu    |  same   | conv3 |\n",
    "| Conv2D |  N   |  3x3  |   1     |    relu    |  same   | conv4 |\n",
    "| Flatten|  -   |   -   |   -     |     -      |    -    | flat  |\n",
    "| Dense  | 128  |   -   |   -     |    relu    |    -    | feat  |\n",
    "| Dense  |  K   |   -   |   -     |     -      |    -    | mean  |\n",
    "| Dense  |  K   |   -   |   -     |     -      |    -    | log_var  |\n",
    "| Lambda |  -   |   -   |   -     |     -      |    -    | sample  |\n",
    "\n",
    "where $N$ is the number of filters used in the convolution, $K$ is the size of the latent space.\n",
    "\n",
    "The first four convolutions plus the fully connected layer `feat` extract features from the input images. Then the `mean` and `variance` are predicted using two fully connected layers.\n",
    "The predicted variance must be positive and in range $\\left[0, 1 \\right]$. However this is not numerically stable. To improve it, the variance regressor will instead predict the logarithm of the variance (i.e. $\\log \\boldsymbol{\\sigma}^2$) instead of the plain variance.\n",
    "\n",
    "### KL Divergence\n",
    "\n",
    "As seen earlier, we need to compute $\\mathbb{K}\\mathbb{L} \\left(q_\\lambda \\left(z | x_i \\right) \\, || \\, p\\left(z\\right) \\right))$ to ensure that the output of the encoder is following the prior distribution. Since the prior is assumed to follow a multivariate gaussian distribution $\\mathcal{N}\\left(\\boldsymbol{0}, \\boldsymbol{1} \\right)$ we can simplify the calculation as follow:\n",
    "\n",
    "$\\mathbb{K}\\mathbb{L} \\left(q_\\lambda \\left(z | x \\right) \\, || \\, p\\left(z\\right) \\right)) = -\\frac{w_{kl}}{2} \\sum_{i=1}^{K} 1 + \\log \\sigma_i^2 - \\mu_i^2 + \\sigma_i^2$\n",
    "\n",
    "where $K$ is the dimension of the latent space\n",
    "\n",
    "### Reparametrization trick\n",
    "\n",
    "The latent variables are drawn from the distribution $z \\sim \\mathcal{N}\\left(\\boldsymbol{\\mu}, \\boldsymbol{\\sigma}^2 \\right)$. However the operation is not differentiable directly due to the sampling operation which stops back-propagating to the encoder. Therefore the reparametrization trick is used to shift the *random* input on the side which allows to backpropagate to the encoder.\n",
    "The sampling operation is defined is two steps:\n",
    "\n",
    "- Draw $\\epsilon \\sim \\mathcal{N}\\left(\\boldsymbol{0}, \\boldsymbol{1} \\right)$\n",
    "- Apply affine transform: $z = \\boldsymbol{\\mu} + \\boldsymbol{\\sigma} \\cdot \\epsilon$\n",
    "\n",
    "Doing so, $z$ is fully differentiable with respect to $\\boldsymbol{\\mu}$ and $\\boldsymbol{\\sigma}$. In the next cell, implement the reparametrization trick in the sampling function using the TensorFlow function.\n",
    "\n",
    "*Hints: input is a tuple holding the mean and log of variance*\n",
    "\n",
    "**Your task**\n",
    "\n",
    "  1. Implement the reparametrization trick in the sampling function\n",
    "  2. Complement the implementation of the `Encoder` class:\n",
    "    -  `__init__(...)`: Instantiate layers\n",
    "    -  `call()`: Call layer to perform the forward pass\n",
    "    -  `_kl_divergence(...)` Compute regularization term based on predictions."
   ]
  },
  {
   "cell_type": "code",
   "execution_count": 9,
   "metadata": {
    "id": "cQNLgLzR0hrA"
   },
   "outputs": [],
   "source": [
    "import tensorflow_probability as tfp\n",
    "\n",
    "@tf.function\n",
    "def sample_z(inputs):\n",
    "    \"\"\"\n",
    "    Sample the prior distribution given a `mean` and `log_sigma` using the\n",
    "    re-parametrisation trick\n",
    "    :param inputs:  tuple: mean value, log of variance\n",
    "    :return:  Sampled value\n",
    "    \"\"\"\n",
    "    # YOUR CODE HERE\n",
    "    \n",
    "    z_mean, z_log_var = inputs\n",
    "    \n",
    "    # Express Stochasticity in terms of epsilon\n",
    "    epsilon = tf.random.normal(shape=tf.shape(z_mean), mean=0., stddev=1.)\n",
    "\n",
    "    # Apply reparameterization z = μ + σ * ε and enables gradient flow through μ and σ\n",
    "    z = z_mean + tf.exp(z_log_var / 2) * epsilon\n",
    "    \n",
    "\n",
    "    return z\n"
   ]
  },
  {
   "cell_type": "code",
   "execution_count": 10,
   "metadata": {
    "id": "LcSW40NvYb0h"
   },
   "outputs": [],
   "source": [
    "import tensorflow.keras.layers as kl\n",
    "\n",
    "class Encoder(tf.keras.Model):\n",
    "  \"\"\" Image Encoder \"\"\"\n",
    "\n",
    "  def __init__(self,\n",
    "               latent_sz,\n",
    "               n_filter,\n",
    "               w_kl,\n",
    "               name='Encoder',\n",
    "               **kwargs):\n",
    "    \"\"\"\n",
    "    Constructor\n",
    "    :param latent_sz: Latent space dimension\n",
    "    :param n_filter:  Number of filter for conv.\n",
    "    :param w_kl:      Weight for KL divergence\n",
    "    :param name:      Encoder's name\n",
    "    :param kwargs:    Extra keyword arguments\n",
    "    \"\"\"\n",
    "    super(Encoder, self).__init__(name=name, **kwargs)\n",
    "    self.w_kl = w_kl\n",
    "\n",
    "    # YOUR CODE HERE\n",
    "\n",
    "    # Conv2D layers\n",
    "    self.conv1 = kl.Conv2D(n_filter, 3, strides=2, padding='same', activation='relu', name='conv1')\n",
    "    self.conv2 = kl.Conv2D(n_filter, 3, strides=2, padding='same', activation='relu', name='conv2')\n",
    "    self.conv3 = kl.Conv2D(n_filter, 3, strides=1, padding='same', activation='relu', name='conv3')\n",
    "    self.conv4 = kl.Conv2D(n_filter, 3, strides=1, padding='same', activation='relu', name='conv4')\n",
    "      \n",
    "    # Flatten\n",
    "    self.flatten = kl.Flatten(name='flat')\n",
    "\n",
    "    # Dense Layers\n",
    "    self.dense_feat = kl.Dense(128, activation='relu', name='feat')\n",
    "    self.dense_mean = kl.Dense(latent_sz, name='mean')\n",
    "    self.dense_log_var = kl.Dense(latent_sz, name='log_var')\n",
    "      \n",
    "    # Sample\n",
    "    self.sampler = kl.Lambda(sample_z, name='sample')\n",
    "\n",
    "  def call(self, inputs):\n",
    "    \"\"\"\n",
    "    Forward pass\n",
    "    :param inputs: Tensor, image to encode\n",
    "    :return:  sample latent variable, mean, log of variance\n",
    "    \"\"\"\n",
    "\n",
    "    # YOUR CODE HERE\n",
    "    # Complete the implementation of the forward pass. The KL divergence is\n",
    "    # Conv2d Layers\n",
    "    x = self.conv1(inputs)\n",
    "    x = self.conv2(x)\n",
    "    x = self.conv3(x)\n",
    "    x = self.conv4(x)\n",
    "\n",
    "    # Flatten\n",
    "    x = self.flatten(x)\n",
    "    # Dense Layers\n",
    "    x = self.dense_feat(x)\n",
    "    mean = self.dense_mean(x)\n",
    "    log_var = self.dense_log_var(x)\n",
    "\n",
    "    # Sample\n",
    "    z = self.sampler((mean, log_var))\n",
    "\n",
    "    # Add KL loss here\n",
    "    kl = self._kl_divergence(mean, log_var) * self.w_kl\n",
    "    self.add_loss(kl, inputs=True)\n",
    "\n",
    "\n",
    "    # Return latent code\n",
    "    return z, mean, log_var\n",
    "\n",
    "  @tf.function\n",
    "  def _kl_divergence(self, mean, log_var):\n",
    "    \"\"\"\n",
    "    Compute KL divergence\n",
    "    :param mu: Predicted mean\n",
    "    :param log_sigma: Predicted sigma\n",
    "    :return: KL divergence cost\n",
    "    \"\"\"\n",
    "\n",
    "    # YOUR CODE HERE\n",
    "    kl = 1 + log_var - tf.square(mean) - tf.exp(log_var)\n",
    "    # Sum over latent dims\n",
    "    kl = tf.reduce_sum(kl, axis=1)\n",
    "    # Mean over batches\n",
    "    kl = tf.reduce_mean(kl)\n",
    "    kl *= -0.5\n",
    "\n",
    "    return kl"
   ]
  },
  {
   "cell_type": "markdown",
   "metadata": {
    "id": "IiWhun93hQ5K"
   },
   "source": [
    "### 4.7.4 Decoder Network\n",
    "\n",
    "The decoder takes as input latent variables and reconstructs the data. The structure of the network should more or less mirror the one in the encoder.\n",
    "\n",
    "The decoder structure is as follow:\n",
    "\n",
    "|  Type  | Size | Kernel | Stride | Activation | Padding| name  |\n",
    "|--------|:----:|:-----:|:-------:|:----------:|:------:| ---   |\n",
    "| Dense  | 128  |   -   |   -     |    relu    |    -   | dense1 |\n",
    "| Dense  |  P   |   -   |   -     |    relu    |    -   | dense2 |\n",
    "| Reshape|  -   |   -   |   -     |      -     |    -   | reshape |\n",
    "| Conv2D |  N   |  3x3  |   1     |    relu    |  Same  | conv1 |\n",
    "| UpSampling2D |  2   |   -   |   -     |     -      |    -   | up1 |\n",
    "| Conv2D |  N   |  3x3  |   1     |    relu    |  Same  | conv2 |\n",
    "| UpSampling2D |  2   |   -   |   -     |     -      |    -   | up2 |\n",
    "| Conv2D |  N   |  3x3  |   1     |    relu    |  Same  | conv3 |\n",
    "| Conv2D |  1   |  3x3  |   1     |  sigmoid   |  Same  | conv4 |\n",
    "\n",
    "where $P$ is the flatten dimension of the feature map (i.e. $7 \\cdot 7 \\cdot N$), $N$ is the number of filters in the convolutions. The `Reshape` layer converts the flat feature maps back into their original dimensions (*i.e. 4D Tensor*).\n",
    "\n",
    "**Your task**\n",
    "\n",
    " 1. Complement the implementation of the Encoder class:\n",
    "    - `__init__(...)`: Instantiate layers\n",
    "    - `call(...)`: Call layer to perform the forward pass\n",
    "\n"
   ]
  },
  {
   "cell_type": "code",
   "execution_count": 11,
   "metadata": {},
   "outputs": [
    {
     "name": "stdout",
     "output_type": "stream",
     "text": [
      "KerasTensor(type_spec=TensorSpec(shape=(None, 28, 28, 1), dtype=tf.float32, name='input_3'), name='input_3', description=\"created by layer 'input_3'\")\n",
      "KerasTensor(type_spec=TensorSpec(shape=(None, 26, 26, 32), dtype=tf.float32, name=None), name='conv2d_1/Relu:0', description=\"created by layer 'conv2d_1'\")\n"
     ]
    }
   ],
   "source": [
    "from tensorflow.keras import layers as kl\n",
    "\n",
    "x = kl.Input(shape=(28, 28, 1))\n",
    "y = kl.Conv2D(32, kernel_size=3, activation='relu')(x)\n",
    "\n",
    "print(x)\n",
    "print(y)\n"
   ]
  },
  {
   "cell_type": "code",
   "execution_count": 12,
   "metadata": {
    "id": "4cSN61t7Yb_6"
   },
   "outputs": [],
   "source": [
    "class Decoder(tf.keras.Model):\n",
    "  \"\"\" Latent code decoder \"\"\"\n",
    "\n",
    "  def __init__(self,\n",
    "               shape: list,\n",
    "               n_filter,\n",
    "               name='Decoder',\n",
    "               **kwargs):\n",
    "    \"\"\"\n",
    "    Constructor\n",
    "    :param shape:     Feature map shape before flatten layer in the encoder\n",
    "    :param n_filter:  Number of filter\n",
    "    :param name:      Model's name\n",
    "    :param kwargs:    Extra keyword arguments\n",
    "    \"\"\"\n",
    "    super(Decoder, self).__init__(name=name, **kwargs)\n",
    "\n",
    "\n",
    "    # YOUR CODE HERE\n",
    "      \n",
    "    # Stores final shape\n",
    "    self.shape_before_flatten = shape\n",
    "      \n",
    "    #Flattened size\n",
    "    P = shape[0] * shape[1] * shape[2]\n",
    "\n",
    "    # Dense Layers\n",
    "    self.dense1 = kl.Dense(128, activation='relu', name='dense1')\n",
    "    self.dense2 = kl.Dense(P, activation='relu', name='dense2')\n",
    "\n",
    "    # Reshape to 3D tensor to match encoder’s feature map\n",
    "    self.reshape = kl.Reshape(shape, name='reshape')\n",
    "\n",
    "    # Conv2d layers with upsampling\n",
    "    self.conv1 = kl.Conv2D(n_filter, kernel_size=3, strides=1,\n",
    "                               activation='relu', padding='same', name='conv1')\n",
    "    self.up1 = kl.UpSampling2D(size=2, name='up1')\n",
    "\n",
    "    self.conv2 = kl.Conv2D(n_filter, kernel_size=3, strides=1,\n",
    "                               activation='relu', padding='same', name='conv2')\n",
    "    self.up2 = kl.UpSampling2D(size=2, name='up2')\n",
    "\n",
    "    self.conv3 = kl.Conv2D(n_filter, kernel_size=3, strides=1,\n",
    "                               activation='relu', padding='same', name='conv3')\n",
    "    self.conv4 = kl.Conv2D(1, kernel_size=3, strides=1,\n",
    "                               activation='sigmoid', padding='same', name='conv4')\n",
    "\n",
    "\n",
    "  def call(self, inputs):\n",
    "    \"\"\"\n",
    "    Forward\n",
    "    :param inputs: Tensor, latent code to decode\n",
    "    :return: Decoded image\n",
    "    \"\"\"\n",
    "\n",
    "    # YOUR CODE HERE\n",
    "\n",
    "    x = self.dense1(inputs)\n",
    "    x = self.dense2(x)\n",
    "    x = self.reshape(x)\n",
    "\n",
    "    x = self.conv1(x)\n",
    "    x = self.up1(x)\n",
    "\n",
    "    x = self.conv2(x)\n",
    "    x = self.up2(x)\n",
    "\n",
    "    x = self.conv3(x)\n",
    "    x = self.conv4(x)\n",
    "\n",
    "\n",
    "    return x"
   ]
  },
  {
   "cell_type": "markdown",
   "metadata": {
    "id": "m1nSeGGklMTn"
   },
   "source": [
    "### 4.7.4 Variational Autoencoder : VAE\n",
    "\n",
    "In the last steps before training the model, we need to combine both the encoder and the decoder into a single `Model`. It takes as input an image and outputs the reconstructed image. Internally it will compute the KL divergence as well.\n",
    "\n",
    "The function below, combines both networks into a single model."
   ]
  },
  {
   "cell_type": "code",
   "execution_count": 13,
   "metadata": {
    "id": "Sl6okfqGldeR"
   },
   "outputs": [],
   "source": [
    "def create_vae(latent_sz, w_kl, n_filter):\n",
    "  \"\"\"\n",
    "  Build variational autoencoder\n",
    "  :return: tuple, encoder, decoder, vae\n",
    "  \"\"\"\n",
    "  # Encoder\n",
    "  inputs = kl.Input(shape=(28, 28, 1), dtype=tf.float32)\n",
    "  encoder = Encoder(latent_sz=latent_sz, w_kl=w_kl, n_filter=n_filter)\n",
    "  z, mu, log_sigma = encoder(inputs)\n",
    "\n",
    "  # Decoder\n",
    "  decoder = Decoder(shape=[7, 7, n_filter], n_filter=n_filter)\n",
    "  rec = decoder(z)\n",
    "\n",
    "  # Vae\n",
    "  model = tf.keras.Model(inputs, rec)\n",
    "  return encoder, decoder, model"
   ]
  },
  {
   "cell_type": "markdown",
   "metadata": {
    "id": "QHJytQvPl_XB"
   },
   "source": [
    "Recall from earlier, we need to maximize the ELBO in order to learn the distribution of our data (*i.e. mnist digits*). So far we've only taken into account the KL divergence between the approximated posterior and the latent variable prior. But we still have to consider the reconstruction error. To do so will use the binary crossentropy.\n",
    "\n",
    "In the next cell, the following steps are performed:\n",
    "\n",
    "1. Instantiate the networks, encoder, decoder and VAE\n",
    "2. Create the input pipeline using `tf.data.Dataset` objects\n",
    "3. Define data term loss function (i.e. Binary crossentropy)\n",
    "4. Create an optimizer, Adam in this case\n",
    "5. Compile the combined model\n",
    "6. Train the VAE.\n",
    "\n",
    "**Questions**\n",
    "\n",
    " 1. Is it possible for the VAE to overfit?\n",
    " 2. Does our trained model overfit? Explain."
   ]
  },
  {
   "cell_type": "code",
   "execution_count": 16,
   "metadata": {
    "id": "N1lt6_6pmDrm"
   },
   "outputs": [
    {
     "name": "stdout",
     "output_type": "stream",
     "text": [
      "Epoch 1/25\n"
     ]
    },
    {
     "name": "stderr",
     "output_type": "stream",
     "text": [
      "2025-05-28 15:10:24.769981: I tensorflow/core/common_runtime/executor.cc:1197] [/device:CPU:0] (DEBUG INFO) Executor start aborting (this does not indicate an error and you can ignore this message): INVALID_ARGUMENT: You must feed a value for placeholder tensor 'Placeholder/_0' with dtype float and shape [60000,28,28,1]\n",
      "\t [[{{node Placeholder/_0}}]]\n",
      "2025-05-28 15:10:24.770274: I tensorflow/core/common_runtime/executor.cc:1197] [/device:CPU:0] (DEBUG INFO) Executor start aborting (this does not indicate an error and you can ignore this message): INVALID_ARGUMENT: You must feed a value for placeholder tensor 'Placeholder/_0' with dtype float and shape [60000,28,28,1]\n",
      "\t [[{{node Placeholder/_0}}]]\n"
     ]
    },
    {
     "name": "stdout",
     "output_type": "stream",
     "text": [
      "1875/1875 [==============================] - ETA: 0s - loss: 0.1445"
     ]
    },
    {
     "name": "stderr",
     "output_type": "stream",
     "text": [
      "2025-05-28 15:10:42.834334: I tensorflow/core/common_runtime/executor.cc:1197] [/device:CPU:0] (DEBUG INFO) Executor start aborting (this does not indicate an error and you can ignore this message): INVALID_ARGUMENT: You must feed a value for placeholder tensor 'Placeholder/_1' with dtype float and shape [10000,28,28,1]\n",
      "\t [[{{node Placeholder/_1}}]]\n"
     ]
    },
    {
     "name": "stdout",
     "output_type": "stream",
     "text": [
      "1875/1875 [==============================] - 19s 9ms/step - loss: 0.1445 - val_loss: 0.1026\n",
      "Epoch 2/25\n",
      "1875/1875 [==============================] - 16s 9ms/step - loss: 0.0994 - val_loss: 0.0951\n",
      "Epoch 3/25\n",
      "1875/1875 [==============================] - 16s 9ms/step - loss: 0.0944 - val_loss: 0.0926\n",
      "Epoch 4/25\n",
      "1875/1875 [==============================] - 16s 9ms/step - loss: 0.0920 - val_loss: 0.0908\n",
      "Epoch 5/25\n",
      "1875/1875 [==============================] - 16s 9ms/step - loss: 0.0905 - val_loss: 0.0893\n",
      "Epoch 6/25\n",
      "1875/1875 [==============================] - 16s 9ms/step - loss: 0.0894 - val_loss: 0.0888\n",
      "Epoch 7/25\n",
      "1875/1875 [==============================] - 16s 8ms/step - loss: 0.0886 - val_loss: 0.0879\n",
      "Epoch 8/25\n",
      "1875/1875 [==============================] - 16s 9ms/step - loss: 0.0879 - val_loss: 0.0871\n",
      "Epoch 9/25\n",
      "1875/1875 [==============================] - 16s 9ms/step - loss: 0.0874 - val_loss: 0.0863\n",
      "Epoch 10/25\n",
      "1875/1875 [==============================] - 16s 9ms/step - loss: 0.0869 - val_loss: 0.0863\n",
      "Epoch 11/25\n",
      "1875/1875 [==============================] - 16s 8ms/step - loss: 0.0866 - val_loss: 0.0861\n",
      "Epoch 12/25\n",
      "1875/1875 [==============================] - 16s 9ms/step - loss: 0.0862 - val_loss: 0.0863\n",
      "Epoch 13/25\n",
      "1875/1875 [==============================] - 16s 9ms/step - loss: 0.0859 - val_loss: 0.0855\n",
      "Epoch 14/25\n",
      "1875/1875 [==============================] - 16s 9ms/step - loss: 0.0857 - val_loss: 0.0868\n",
      "Epoch 15/25\n",
      "1875/1875 [==============================] - 16s 9ms/step - loss: 0.0854 - val_loss: 0.0855\n",
      "Epoch 16/25\n",
      "1875/1875 [==============================] - 16s 8ms/step - loss: 0.0852 - val_loss: 0.0853\n",
      "Epoch 17/25\n",
      "1875/1875 [==============================] - 16s 9ms/step - loss: 0.0850 - val_loss: 0.0867\n",
      "Epoch 18/25\n",
      "1875/1875 [==============================] - 16s 8ms/step - loss: 0.0848 - val_loss: 0.0845\n",
      "Epoch 19/25\n",
      "1875/1875 [==============================] - 16s 9ms/step - loss: 0.0846 - val_loss: 0.0846\n",
      "Epoch 20/25\n",
      "1875/1875 [==============================] - 16s 9ms/step - loss: 0.0845 - val_loss: 0.0844\n",
      "Epoch 21/25\n",
      "1875/1875 [==============================] - 16s 9ms/step - loss: 0.0844 - val_loss: 0.0846\n",
      "Epoch 22/25\n",
      "1875/1875 [==============================] - 16s 9ms/step - loss: 0.0842 - val_loss: 0.0843\n",
      "Epoch 23/25\n",
      "1875/1875 [==============================] - 16s 9ms/step - loss: 0.0841 - val_loss: 0.0840\n",
      "Epoch 24/25\n",
      "1875/1875 [==============================] - 16s 9ms/step - loss: 0.0840 - val_loss: 0.0843\n",
      "Epoch 25/25\n",
      "1875/1875 [==============================] - 16s 9ms/step - loss: 0.0838 - val_loss: 0.0842\n"
     ]
    },
    {
     "data": {
      "text/plain": [
       "<keras.callbacks.History at 0x7f4944355ba0>"
      ]
     },
     "execution_count": 16,
     "metadata": {},
     "output_type": "execute_result"
    }
   ],
   "source": [
    "# Hyper parameters\n",
    "BATCH_SIZE = 32\n",
    "LEARNING_RATE = 1e-3\n",
    "WEIGHT_KL = 4e-5\n",
    "LATENT_SIZE = 16\n",
    "EPOCHS = 25\n",
    "\n",
    "# Create models\n",
    "encoder, decoder, vae = create_vae(latent_sz=LATENT_SIZE, w_kl=WEIGHT_KL, n_filter=16)\n",
    "\n",
    "# Create dataset\n",
    "train_dset, test_dset = create_dataset(batch_sz=BATCH_SIZE)\n",
    "\n",
    "# Create optimizer\n",
    "optim = tf.keras.optimizers.Adam(learning_rate=LEARNING_RATE)\n",
    "\n",
    "# Reconstruction loss function\n",
    "loss = tf.keras.losses.BinaryCrossentropy(from_logits=False)\n",
    "\n",
    "# Compile\n",
    "vae.compile(optimizer=optim, loss=loss)\n",
    "\n",
    "# Train\n",
    "vae.fit(train_dset, validation_data=test_dset, epochs=EPOCHS)"
   ]
  },
  {
   "cell_type": "markdown",
   "metadata": {
    "id": "mKkFMPGFhU_k"
   },
   "source": [
    "**Your answer**\n",
    "\n",
    "`1. Is it possible for the VAE to overfit?`\n",
    "\n",
    "   \n",
    "Yes, in fact it can encode into distributions that represent well the training samples but do not generalize well to the tesing samples.\n",
    "\n",
    "`2. Does our trained model overfit? Explain.`\n",
    "    \n",
    "It does not appear so on the 25 epochs. When looking at the losss its peformance is similar on training and testing data."
   ]
  },
  {
   "cell_type": "markdown",
   "metadata": {
    "id": "kmkzpnUfvV1f"
   },
   "source": [
    "In the next cell, we visualize some samples reconstructed data from the `train` and the `test` partitions. The first row shows the reconstruction sample and the second one shows the corresponding expected value.\n",
    "\n",
    "**Questions**\n",
    "  1. How well does our generative model perform? Comment on what you're observing.\n",
    "  2. How well does our model generalize to unseen data?"
   ]
  },
  {
   "cell_type": "code",
   "execution_count": 11,
   "metadata": {
    "id": "8SMcXVqAvaEW"
   },
   "outputs": [],
   "source": [
    "import matplotlib.pyplot as plt\n",
    "\n",
    "def plot_compare_vae(dataset, model, n_img):\n",
    "\n",
    "  if not isinstance(dataset, tf.data.Dataset):\n",
    "    dataset = tf.data.Dataset.from_tensors(dataset)\n",
    "\n",
    "  for inputs in dataset.take(1):\n",
    "    images = inputs[0] if isinstance(inputs, tuple) else inputs\n",
    "    reconst_images = model.predict(images, steps=1)  # predict a single batch\n",
    "    images = images.numpy()\n",
    "\n",
    "    fig = plt.figure(figsize=(15, 3))\n",
    "    fig.subplots_adjust(hspace=0.4, wspace=0.4)\n",
    "    # Draw generated samples\n",
    "    for i in range(n_img):\n",
    "        img = reconst_images[i].squeeze()\n",
    "        sub = fig.add_subplot(2, n_img, i+1)\n",
    "        sub.axis('off')\n",
    "        sub.imshow(img)\n",
    "    # Add ground truth if exists\n",
    "    if images.ndim == 4:\n",
    "      for i in range(n_img):\n",
    "          img = images[i].squeeze()\n",
    "          sub = fig.add_subplot(2, n_img, i+n_img+1)\n",
    "          sub.axis('off')\n",
    "          sub.imshow(img)"
   ]
  },
  {
   "cell_type": "code",
   "execution_count": 12,
   "metadata": {
    "id": "tlevr3-Ivizu"
   },
   "outputs": [
    {
     "name": "stderr",
     "output_type": "stream",
     "text": [
      "2025-05-28 14:28:15.878900: I tensorflow/core/common_runtime/executor.cc:1197] [/device:CPU:0] (DEBUG INFO) Executor start aborting (this does not indicate an error and you can ignore this message): INVALID_ARGUMENT: You must feed a value for placeholder tensor 'Placeholder/_0' with dtype float and shape [60000,28,28,1]\n",
      "\t [[{{node Placeholder/_0}}]]\n",
      "2025-05-28 14:28:15.879200: I tensorflow/core/common_runtime/executor.cc:1197] [/device:CPU:0] (DEBUG INFO) Executor start aborting (this does not indicate an error and you can ignore this message): INVALID_ARGUMENT: You must feed a value for placeholder tensor 'Placeholder/_0' with dtype float and shape [60000,28,28,1]\n",
      "\t [[{{node Placeholder/_0}}]]\n"
     ]
    },
    {
     "name": "stdout",
     "output_type": "stream",
     "text": [
      "1/1 [==============================] - 0s 142ms/step\n"
     ]
    },
    {
     "data": {
      "image/png": "[encoded data removed]",
      "text/plain": [
       "<Figure size 1500x300 with 20 Axes>"
      ]
     },
     "metadata": {},
     "output_type": "display_data"
    }
   ],
   "source": [
    "# Train\n",
    "plot_compare_vae(train_dset, vae, n_img=10)"
   ]
  },
  {
   "cell_type": "code",
   "execution_count": 13,
   "metadata": {
    "id": "XSc8gLcZv3_c"
   },
   "outputs": [
    {
     "name": "stdout",
     "output_type": "stream",
     "text": [
      "1/1 [==============================] - 0s 19ms/step\n"
     ]
    },
    {
     "name": "stderr",
     "output_type": "stream",
     "text": [
      "2025-05-28 14:28:19.597913: I tensorflow/core/common_runtime/executor.cc:1197] [/device:CPU:0] (DEBUG INFO) Executor start aborting (this does not indicate an error and you can ignore this message): INVALID_ARGUMENT: You must feed a value for placeholder tensor 'Placeholder/_1' with dtype float and shape [10000,28,28,1]\n",
      "\t [[{{node Placeholder/_1}}]]\n"
     ]
    },
    {
     "data": {
      "image/png": "[encoded data removed]",
      "text/plain": [
       "<Figure size 1500x300 with 20 Axes>"
      ]
     },
     "metadata": {},
     "output_type": "display_data"
    }
   ],
   "source": [
    "# Test\n",
    "plot_compare_vae(test_dset, vae, n_img=10)"
   ]
  },
  {
   "cell_type": "markdown",
   "metadata": {
    "id": "tIMbyuYChM5r"
   },
   "source": [
    "**Your answer**\n",
    "\n",
    "`1. How well does our generative model perform? Comment on what you're observing.`\n",
    "\n",
    "The VAE performs quite well, most images look very similar to the originals. There position in space is almost intact. But we see that the model is struggling on the number 8, where it created the top part got distorted, there is also a similar problem for the 1 from the training data, where the thickness si also altered in the middle. \n",
    "\n",
    "`2. How well does our model generalize to unseen data?`\n",
    "\n",
    "The model has similar performance on the test set it also struggles with thickness (see digits 6 and 9) but the digits are overall well reconstructed. This was expected since the training and testing loss that were very similar.\n",
    "\n"
   ]
  },
  {
   "cell_type": "markdown",
   "metadata": {
    "id": "nlizN5BZw9Fy"
   },
   "source": [
    "### 4.7.5 Prior distribution\n",
    "\n",
    "When training the encoder, the KL divergence constraints the network to predict the parametrization of the latent variable that follows a normal distribution. In the next cell, we're gonna verify this assumption.\n",
    "\n",
    "To do so, we'll extract the latent variable for a bunch of images using the encoder. The latent variable distribution will be estimated using histograms and compared to the prior distribution. If everything went well, both should match.\n",
    "\n",
    "In the next cells, the histogram of each component of the latent code is computed and displayed on top of the prior distribution.\n",
    "\n",
    "**Question**\n",
    "\n",
    "  1. Does the estimated distribution match our expectations? Comment on what you observe."
   ]
  },
  {
   "cell_type": "code",
   "execution_count": 14,
   "metadata": {
    "id": "fqx7sChyv-oe"
   },
   "outputs": [],
   "source": [
    "from scipy.stats import norm\n",
    "\n",
    "def latent_code_distribution(dataset, model):\n",
    "  # Get latent code\n",
    "  z_test = []\n",
    "  for inputs in dataset.take(5):\n",
    "    images = inputs[0] if isinstance(inputs, tuple) else inputs\n",
    "    z, mu, log_sigma = model.predict(images)\n",
    "    z_test.append(z)\n",
    "  z_test = np.vstack(z_test)\n",
    "  # Draw histogram\n",
    "  x = np.linspace(-3, 3, 300)\n",
    "  x_norm = norm.pdf(x)\n",
    "\n",
    "  fig = plt.figure(figsize=(10, 10))\n",
    "  fig.subplots_adjust(hspace=0.6, wspace=0.4)\n",
    "\n",
    "  for i in range(16):\n",
    "      ax = fig.add_subplot(4, 4, i+1)\n",
    "      ax.hist(z_test[:,i], density=True, bins = 20)\n",
    "      ax.axis('off')\n",
    "      ax.text(0.5, -0.35, str(i), fontsize=10, ha='center', transform=ax.transAxes)\n",
    "      ax.plot(x, x_norm)\n",
    "  # Done\n",
    "  plt.show()"
   ]
  },
  {
   "cell_type": "code",
   "execution_count": 15,
   "metadata": {
    "id": "QOQilBIRyKKW"
   },
   "outputs": [
    {
     "name": "stderr",
     "output_type": "stream",
     "text": [
      "2025-05-28 14:37:09.644993: I tensorflow/core/common_runtime/executor.cc:1197] [/device:CPU:0] (DEBUG INFO) Executor start aborting (this does not indicate an error and you can ignore this message): INVALID_ARGUMENT: You must feed a value for placeholder tensor 'Placeholder/_0' with dtype float and shape [60000,28,28,1]\n",
      "\t [[{{node Placeholder/_0}}]]\n",
      "2025-05-28 14:37:09.645290: I tensorflow/core/common_runtime/executor.cc:1197] [/device:CPU:0] (DEBUG INFO) Executor start aborting (this does not indicate an error and you can ignore this message): INVALID_ARGUMENT: You must feed a value for placeholder tensor 'Placeholder/_0' with dtype float and shape [60000,28,28,1]\n",
      "\t [[{{node Placeholder/_0}}]]\n"
     ]
    },
    {
     "name": "stdout",
     "output_type": "stream",
     "text": [
      "1/1 [==============================] - 0s 68ms/step\n",
      "1/1 [==============================] - 0s 16ms/step\n",
      "1/1 [==============================] - 0s 15ms/step\n",
      "1/1 [==============================] - 0s 16ms/step\n",
      "1/1 [==============================] - 0s 15ms/step\n"
     ]
    },
    {
     "data": {
      "image/png": "[encoded data removed]",
      "text/plain": [
       "<Figure size 1000x1000 with 16 Axes>"
      ]
     },
     "metadata": {},
     "output_type": "display_data"
    }
   ],
   "source": [
    "# Train\n",
    "latent_code_distribution(train_dset, encoder)"
   ]
  },
  {
   "cell_type": "code",
   "execution_count": 16,
   "metadata": {
    "id": "z3wD8zvSyOeN"
   },
   "outputs": [
    {
     "name": "stdout",
     "output_type": "stream",
     "text": [
      "1/1 [==============================] - 0s 17ms/step\n",
      "1/1 [==============================] - 0s 16ms/step\n",
      "1/1 [==============================] - 0s 17ms/step\n",
      "1/1 [==============================] - 0s 16ms/step\n",
      "1/1 [==============================] - 0s 17ms/step\n"
     ]
    },
    {
     "name": "stderr",
     "output_type": "stream",
     "text": [
      "2025-05-28 14:37:16.425456: I tensorflow/core/common_runtime/executor.cc:1197] [/device:CPU:0] (DEBUG INFO) Executor start aborting (this does not indicate an error and you can ignore this message): INVALID_ARGUMENT: You must feed a value for placeholder tensor 'Placeholder/_1' with dtype float and shape [10000,28,28,1]\n",
      "\t [[{{node Placeholder/_1}}]]\n"
     ]
    },
    {
     "data": {
      "image/png": "[encoded data removed]",
      "text/plain": [
       "<Figure size 1000x1000 with 16 Axes>"
      ]
     },
     "metadata": {},
     "output_type": "display_data"
    }
   ],
   "source": [
    "# Test\n",
    "latent_code_distribution(test_dset, encoder)"
   ]
  },
  {
   "cell_type": "markdown",
   "metadata": {
    "id": "_yshgUqWhnSO"
   },
   "source": [
    "**Your answer**\n",
    " \n",
    " `1. Does the estimated distribution match our expectations? Comment on what you observe.`\n",
    " \n",
    "The estimated distribution of the latent variables appears to roughly follow the expected standard normal distribution. Some variables from the latent space do not cover the whole range, which could cause problems when generating new examples."
   ]
  },
  {
   "cell_type": "markdown",
   "metadata": {
    "id": "Aht8jFePy-nX"
   },
   "source": [
    "### 4.7.6  Data generation\n",
    "\n",
    "Once we have a trained variational autoencoder, we can use it to generate new data from the underlying learned distribution.\n",
    "\n",
    "This can be achieved by using only the decoder part of the VAE and feed it with proper latent variables.\n",
    "\n",
    "1. $z \\sim \\mathcal{N}\\left(\\boldsymbol{0}, \\boldsymbol{1} \\right)$\n",
    "2. $\\hat{x} = \\text{decoder}\\left(z \\right)$\n",
    "\n",
    "**Task**\n",
    " 1. Generate 20 new unseen samples\n",
    " 2. Comment on what you observe, does it match your expectation ? Is the quality good enough ?"
   ]
  },
  {
   "cell_type": "code",
   "execution_count": 32,
   "metadata": {
    "id": "Yz7t2lbYyRZ5"
   },
   "outputs": [
    {
     "name": "stdout",
     "output_type": "stream",
     "text": [
      "1/1 [==============================] - 0s 18ms/step\n"
     ]
    },
    {
     "data": {
      "image/png": "[encoded data removed]",
      "text/plain": [
       "<Figure size 1500x300 with 20 Axes>"
      ]
     },
     "metadata": {},
     "output_type": "display_data"
    }
   ],
   "source": [
    "# YOUR CODE HERE\n",
    "\n",
    "# Sample z ~ N(0, I)\n",
    "z = np.random.normal(size=(20, LATENT_SIZE))\n",
    "\n",
    "# Generate new images from the decoder\n",
    "generated = decoder.predict(z)\n",
    "\n",
    "# Plot\n",
    "fig, axes = plt.subplots(2, 10, figsize=(15, 3))\n",
    "for i, ax in enumerate(axes.flat):\n",
    "    ax.imshow(generated[i].squeeze(), cmap='gray')\n",
    "    ax.axis('off')\n",
    "plt.suptitle(\"Generated unseen samples\")\n",
    "plt.show()\n"
   ]
  },
  {
   "cell_type": "markdown",
   "metadata": {
    "id": "IMyGbs5whyZ4"
   },
   "source": [
    "**Your answer**\n",
    "\n",
    "`2. Comment on what you observe, does it match your expectation ? Is the quality good enough ?`\n",
    "\n",
    "The quality of some generated samples is not fully satisfactory, some digits are hard to recognize due to distorted shapes or intensity. This outcome is somewhat expected, as the latent space may not be fully well-structured. \n",
    " "
   ]
  },
  {
   "cell_type": "markdown",
   "metadata": {
    "id": "kTguOFTa06AV"
   },
   "source": [
    "### 4.7.7 Latent variable interpolation\n",
    "\n",
    "The regularization of the latent variable through the KL divergence term enforces undirectly clustering in the latent space. For instance, a data point of the latent space located halfway between the means of two encoded distributions from different training samples should be decoded into something that is somewhere between the data point that gave the first distribution and the data point that gave the second distribution. This concept is illustrated in the figure below.\n",
    "\n",
    "![](https://miro.medium.com/max/1400/1*79AzftDm7WcQ9OfRH5Y-6g@2x.png)\n",
    "\n",
    "\n",
    "In the next cell we'll try to illustrate this effect of cluster / smooth transition between two latent variables. The idea is to interpolate between two latent variables and reconstruct the corresponding image by decoding the interpolated code.\n",
    "\n",
    "**Task**\n",
    "\n",
    "1. Complete the implementation of the linear interpolation function\n",
    "2. Going from $0$ to $2$, comment on the results and what you observe."
   ]
  },
  {
   "cell_type": "code",
   "execution_count": 17,
   "metadata": {
    "id": "s9v48fs30smD"
   },
   "outputs": [],
   "source": [
    "def interpolate(a, b, alpha):\n",
    "  \"\"\"\n",
    "  Linear interpolation between two points `a` and `b`\n",
    "  :param a: First data point\n",
    "  :param b: Second data point\n",
    "  :param alpha: Interpolation factor in range [0, 1.0]\n",
    "  :return:  Interpolated value\n",
    "  \"\"\"\n",
    "\n",
    "  # YOUR CODE HERE\n",
    "  return  a + (b - a) * alpha\n"
   ]
  },
  {
   "cell_type": "code",
   "execution_count": 19,
   "metadata": {
    "id": "XMWTWE321MeS"
   },
   "outputs": [
    {
     "name": "stdout",
     "output_type": "stream",
     "text": [
      "1/1 [==============================] - 0s 19ms/step\n",
      "1/1 [==============================] - 0s 17ms/step\n",
      "1/1 [==============================] - 0s 17ms/step\n",
      "1/1 [==============================] - 0s 17ms/step\n"
     ]
    },
    {
     "name": "stderr",
     "output_type": "stream",
     "text": [
      "2025-05-28 15:18:22.733513: I tensorflow/core/common_runtime/executor.cc:1197] [/device:CPU:0] (DEBUG INFO) Executor start aborting (this does not indicate an error and you can ignore this message): INVALID_ARGUMENT: You must feed a value for placeholder tensor 'Placeholder/_1' with dtype float and shape [10000,28,28,1]\n",
      "\t [[{{node Placeholder/_1}}]]\n"
     ]
    },
    {
     "name": "stdout",
     "output_type": "stream",
     "text": [
      "1/1 [==============================] - 0s 17ms/step\n",
      "1/1 [==============================] - 0s 17ms/step\n",
      "1/1 [==============================] - 0s 17ms/step\n",
      "1/1 [==============================] - 0s 17ms/step\n",
      "1/1 [==============================] - 0s 17ms/step\n",
      "1/1 [==============================] - 0s 17ms/step\n",
      "1/1 [==============================] - 0s 18ms/step\n",
      "1/1 [==============================] - 0s 18ms/step\n",
      "1/1 [==============================] - 0s 17ms/step\n",
      "1/1 [==============================] - 0s 17ms/step\n",
      "1/1 [==============================] - 0s 16ms/step\n",
      "1/1 [==============================] - 0s 16ms/step\n",
      "1/1 [==============================] - 0s 16ms/step\n"
     ]
    },
    {
     "data": {
      "image/png": "[encoded data removed]",
      "text/plain": [
       "<Figure size 1500x300 with 16 Axes>"
      ]
     },
     "metadata": {},
     "output_type": "display_data"
    }
   ],
   "source": [
    "def latent_interpolation(z_start, z_stop, model, n_step=10):\n",
    "  \"\"\"\n",
    "  Linearly interpolate in latent space and decode it to get back\n",
    "  the image.\n",
    "  :param z_start: Starting latent code\n",
    "  :param z_stop: End latent code\n",
    "  :param model: Decoder model\n",
    "  :param n_step:  Number of step to take\n",
    "  :return: List of decoded image\n",
    "  \"\"\"\n",
    "  images = []\n",
    "  for k in range(n_step + 1):\n",
    "    alpha = k / float(n_step + 1.0)\n",
    "    z_interp = interpolate(z_start, z_stop, alpha)\n",
    "    img = model.predict(z_interp)\n",
    "    images.append(img)\n",
    "  return np.concatenate(images, 0)\n",
    "\n",
    "# Get two digits + latent code\n",
    "n_step = 15\n",
    "for inputs in test_dset.take(1):\n",
    "  images = inputs[0] if isinstance(inputs, tuple) else inputs\n",
    "  # Get latent code\n",
    "  im1 = images[1, ...].numpy()\n",
    "  im2 = images[24, ...].numpy()\n",
    "  z, mu, log_sigma = encoder.predict(images)\n",
    "  z1 = z[1, ...].reshape(1, -1)\n",
    "  z2 = z[24, ...].reshape(1, -1)\n",
    "  # Interpolate\n",
    "  images = latent_interpolation(z_start=z1, z_stop=z2, model=decoder, n_step=n_step)\n",
    "\n",
    "  fig = plt.figure(figsize=(15, 3))\n",
    "  fig.subplots_adjust(hspace=0.4, wspace=0.4)\n",
    "\n",
    "  for i in range(n_step + 1):\n",
    "    img = images[i, ...].squeeze()\n",
    "    sub = fig.add_subplot(1, n_step + 1, i+1)\n",
    "    sub.axis('off')\n",
    "    sub.imshow(img)\n",
    "  # Done\n",
    "  plt.show()"
   ]
  },
  {
   "cell_type": "markdown",
   "metadata": {
    "id": "1NvE2Sfih_zw"
   },
   "source": [
    "**Your answer**\n",
    "\n",
    "`2. Going from $0$ to $2$, comment on the results and what you observe.`\n",
    "\n",
    "My images might be organized differently, thus my 2 images a and b are digitis 2 and 4. The change as the sampling in the latent appears smooth and linear. The digits become progressively more defined as they approach either 4 or 2, showing a clear blend between the two classes.\n"
   ]
  }
 ],
 "metadata": {
  "accelerator": "GPU",
  "colab": {
   "provenance": []
  },
  "kernelspec": {
   "display_name": "Python 3 (ipykernel)",
   "language": "python",
   "name": "python3"
  },
  "language_info": {
   "codemirror_mode": {
    "name": "ipython",
    "version": 3
   },
   "file_extension": ".py",
   "mimetype": "text/x-python",
   "name": "python",
   "nbconvert_exporter": "python",
   "pygments_lexer": "ipython3",
   "version": "3.10.4"
  }
 },
 "nbformat": 4,
 "nbformat_minor": 4
}
